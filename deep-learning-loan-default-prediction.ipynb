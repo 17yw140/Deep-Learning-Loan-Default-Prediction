{
 "cells": [
  {
   "cell_type": "markdown",
   "id": "b06d35c5",
   "metadata": {
    "papermill": {
     "duration": 0.083764,
     "end_time": "2021-11-11T14:19:10.253736",
     "exception": false,
     "start_time": "2021-11-11T14:19:10.169972",
     "status": "completed"
    },
    "tags": []
   },
   "source": [
    "<div style=\"text-align: center; color: #345; padding-top: 10px;\">\n",
    "<h1 style=\"background-color: skyblue; font-family: newtimeroman; font-size: 220%; text-align: center;\"><span style=\"color: #000000;\">Deep Learning - Predicting loan defaults </span><span style=\"color: #000000;\"><br></br>\n",
    "    <img src=\"https://mma.prnewswire.com/media/76307/lending_club_logo.jpg?w=200\"/><span style=\"color: #0000ff;\"></h1>\n",
    "</div>"
   ]
  },
  {
   "cell_type": "markdown",
   "id": "98134408",
   "metadata": {
    "papermill": {
     "duration": 0.080592,
     "end_time": "2021-11-11T14:19:10.415555",
     "exception": false,
     "start_time": "2021-11-11T14:19:10.334963",
     "status": "completed"
    },
    "tags": []
   },
   "source": [
    "## Data\n",
    "Data contains 2 sets for data for rejected and accepted loans, from the Lending club, between 2007 to 2018 Quarter 4. \\\n",
    "We will look at the accepted loans and only a subset of the columns (see list below)\n",
    "\n",
    "\n",
    "## Business summary\n",
    "Can we predict if a given borrower will default on their loan payments using the historical data provided. i.e. will the loan be ***Charged-off*** or set to ***Default*** status\n",
    "\n",
    "## Goal\n",
    "To develop a classification model that predicts the **\"loan status\"** of a loan \n",
    "\n",
    "Description of the columns used in prediction: \\\n",
    "**Note** with over 150 columns in this dataset, only the below will be used"
   ]
  },
  {
   "cell_type": "markdown",
   "id": "410ff5eb",
   "metadata": {
    "execution": {
     "iopub.execute_input": "2021-10-27T07:52:56.254819Z",
     "iopub.status.busy": "2021-10-27T07:52:56.254553Z",
     "iopub.status.idle": "2021-10-27T07:52:56.290106Z",
     "shell.execute_reply": "2021-10-27T07:52:56.28903Z",
     "shell.execute_reply.started": "2021-10-27T07:52:56.254792Z"
    },
    "papermill": {
     "duration": 0.097324,
     "end_time": "2021-11-11T14:19:10.594721",
     "exception": false,
     "start_time": "2021-11-11T14:19:10.497397",
     "status": "completed"
    },
    "tags": []
   },
   "source": [
    "<table border=\"1\" class=\"dataframe\">\n",
    "  <thead>\n",
    "    <tr style=\"text-align: right;\">\n",
    "      <th></th>\n",
    "      <th>LoanStatNew</th>\n",
    "      <th>Description</th>\n",
    "    </tr>\n",
    "  </thead>\n",
    "  <tbody>\n",
    "    <tr>\n",
    "      <th>0</th>\n",
    "      <td>loan_amnt</td>\n",
    "      <td>The listed amount of the loan applied for by the borrower. If at some point in time, the credit department reduces the loan amount, then it will be reflected in this value.</td>\n",
    "    </tr>\n",
    "    <tr>\n",
    "      <th>1</th>\n",
    "      <td>term</td>\n",
    "      <td>The number of payments on the loan. Values are in months and can be either 36 or 60.</td>\n",
    "    </tr>\n",
    "    <tr>\n",
    "      <th>2</th>\n",
    "      <td>int_rate</td>\n",
    "      <td>Interest Rate on the loan</td>\n",
    "    </tr>\n",
    "    <tr>\n",
    "      <th>3</th>\n",
    "      <td>installment</td>\n",
    "      <td>The monthly payment owed by the borrower if the loan originates.</td>\n",
    "    </tr>\n",
    "    <tr>\n",
    "      <th>4</th>\n",
    "      <td>grade</td>\n",
    "      <td>LC assigned loan grade</td>\n",
    "    </tr>\n",
    "    <tr>\n",
    "      <th>5</th>\n",
    "      <td>sub_grade</td>\n",
    "      <td>LC assigned loan subgrade</td>\n",
    "    </tr>\n",
    "    <tr>\n",
    "      <th>6</th>\n",
    "      <td>emp_title</td>\n",
    "      <td>The job title supplied by the Borrower when applying for the loan.*</td>\n",
    "    </tr>\n",
    "    <tr>\n",
    "      <th>7</th>\n",
    "      <td>emp_length</td>\n",
    "      <td>Employment length in years. Possible values are between 0 and 10 where 0 means less than one year and 10 means ten or more years.</td>\n",
    "    </tr>\n",
    "    <tr>\n",
    "      <th>8</th>\n",
    "      <td>home_ownership</td>\n",
    "      <td>The home ownership status provided by the borrower during registration or obtained from the credit report. Our values are: RENT, OWN, MORTGAGE, OTHER</td>\n",
    "    </tr>\n",
    "    <tr>\n",
    "      <th>9</th>\n",
    "      <td>annual_inc</td>\n",
    "      <td>The self-reported annual income provided by the borrower during registration.</td>\n",
    "    </tr>\n",
    "    <tr>\n",
    "      <th>10</th>\n",
    "      <td>verification_status</td>\n",
    "      <td>Indicates if income was verified by LC, not verified, or if the income source was verified</td>\n",
    "    </tr>\n",
    "    <tr>\n",
    "      <th>11</th>\n",
    "      <td>issue_d</td>\n",
    "      <td>The month which the loan was funded</td>\n",
    "    </tr>\n",
    "    <tr>\n",
    "      <th>12</th>\n",
    "      <td>loan_status</td>\n",
    "      <td>Current status of the loan</td>\n",
    "    </tr>\n",
    "    <tr>\n",
    "      <th>13</th>\n",
    "      <td>purpose</td>\n",
    "      <td>A category provided by the borrower for the loan request.</td>\n",
    "    </tr>\n",
    "    <tr>\n",
    "      <th>14</th>\n",
    "      <td>title</td>\n",
    "      <td>The loan title provided by the borrower</td>\n",
    "    </tr>\n",
    "    <tr>\n",
    "      <th>15</th>\n",
    "      <td>addr_state</td>\n",
    "      <td>The state provided by the borrower in the loan application</td>\n",
    "    </tr>\n",
    "    <tr>\n",
    "      <th>16</th>\n",
    "      <td>dti</td>\n",
    "      <td>A ratio calculated using the borrower’s total monthly debt payments on the total debt obligations, excluding mortgage and the requested LC loan, divided by the borrower’s self-reported monthly income.</td>\n",
    "    </tr>\n",
    "    <tr>\n",
    "      <th>17</th>\n",
    "      <td>earliest_cr_line</td>\n",
    "      <td>The month the borrower's earliest reported credit line was opened</td>\n",
    "    </tr>\n",
    "    <tr>\n",
    "      <th>18</th>\n",
    "      <td>open_acc</td>\n",
    "      <td>The number of open credit lines in the borrower's credit file.</td>\n",
    "    </tr>\n",
    "    <tr>\n",
    "      <th>19</th>\n",
    "      <td>pub_rec</td>\n",
    "      <td>Number of derogatory public records</td>\n",
    "    </tr>\n",
    "    <tr>\n",
    "      <th>20</th>\n",
    "      <td>revol_bal</td>\n",
    "      <td>Total credit revolving balance</td>\n",
    "    </tr>\n",
    "    <tr>\n",
    "      <th>21</th>\n",
    "      <td>revol_util</td>\n",
    "      <td>Revolving line utilization rate, or the amount of credit the borrower is using relative to all available revolving credit.</td>\n",
    "    </tr>\n",
    "    <tr>\n",
    "      <th>22</th>\n",
    "      <td>total_acc</td>\n",
    "      <td>The total number of credit lines currently in the borrower's credit file</td>\n",
    "    </tr>\n",
    "    <tr>\n",
    "      <th>23</th>\n",
    "      <td>initial_list_status</td>\n",
    "      <td>The initial listing status of the loan. Possible values are – W, F</td>\n",
    "    </tr>\n",
    "    <tr>\n",
    "      <th>24</th>\n",
    "      <td>application_type</td>\n",
    "      <td>Indicates whether the loan is an individual application or a joint application with two co-borrowers</td>\n",
    "    </tr>\n",
    "    <tr>\n",
    "      <th>25</th>\n",
    "      <td>mort_acc</td>\n",
    "      <td>Number of mortgage accounts.</td>\n",
    "    </tr>\n",
    "    <tr>\n",
    "      <th>26</th>\n",
    "      <td>pub_rec_bankruptcies</td>\n",
    "      <td>Number of public record bankruptcies</td>\n",
    "    </tr>\n",
    "  </tbody>\n",
    "</table>"
   ]
  },
  {
   "cell_type": "markdown",
   "id": "96b19199",
   "metadata": {
    "papermill": {
     "duration": 0.081358,
     "end_time": "2021-11-11T14:19:10.763733",
     "exception": false,
     "start_time": "2021-11-11T14:19:10.682375",
     "status": "completed"
    },
    "tags": []
   },
   "source": [
    "# Libraries"
   ]
  },
  {
   "cell_type": "code",
   "execution_count": 1,
   "id": "b6284f8b",
   "metadata": {
    "_cell_guid": "b1076dfc-b9ad-4769-8c92-a6c4dae69d19",
    "_uuid": "8f2839f25d086af736a60e9eeb907d3b93b6e0e5",
    "execution": {
     "iopub.execute_input": "2021-11-11T14:19:10.935144Z",
     "iopub.status.busy": "2021-11-11T14:19:10.934197Z",
     "iopub.status.idle": "2021-11-11T14:19:16.998630Z",
     "shell.execute_reply": "2021-11-11T14:19:16.997860Z",
     "shell.execute_reply.started": "2021-11-11T12:51:39.841791Z"
    },
    "papermill": {
     "duration": 6.153781,
     "end_time": "2021-11-11T14:19:16.998805",
     "exception": false,
     "start_time": "2021-11-11T14:19:10.845024",
     "status": "completed"
    },
    "tags": []
   },
   "outputs": [
    {
     "name": "stderr",
     "output_type": "stream",
     "text": [
      "2021-11-11 14:19:12.664341: W tensorflow/stream_executor/platform/default/dso_loader.cc:60] Could not load dynamic library 'libcudart.so.11.0'; dlerror: libcudart.so.11.0: cannot open shared object file: No such file or directory; LD_LIBRARY_PATH: /opt/conda/lib\n",
      "2021-11-11 14:19:12.664456: I tensorflow/stream_executor/cuda/cudart_stub.cc:29] Ignore above cudart dlerror if you do not have a GPU set up on your machine.\n"
     ]
    }
   ],
   "source": [
    "import numpy as np \n",
    "import pandas as pd \n",
    "\n",
    "#EDA \n",
    "import seaborn as sns \n",
    "import matplotlib.pyplot as plt\n",
    "\n",
    "#Imputation \n",
    "from sklearn.impute import SimpleImputer\n",
    "\n",
    "#split\n",
    "\n",
    "from sklearn.model_selection import train_test_split\n",
    "\n",
    "# Deep Learning \n",
    "import tensorflow as tf\n",
    "\n",
    "from tensorflow.keras.models import Sequential\n",
    "from tensorflow.keras.layers import Dense,Dropout\n",
    "from tensorflow.keras.callbacks import EarlyStopping\n",
    "\n",
    "# Evaluation\n",
    "from sklearn.metrics import accuracy_score, classification_report"
   ]
  },
  {
   "cell_type": "code",
   "execution_count": 2,
   "id": "62d6ec22",
   "metadata": {
    "execution": {
     "iopub.execute_input": "2021-11-11T14:19:17.183100Z",
     "iopub.status.busy": "2021-11-11T14:19:17.182470Z",
     "iopub.status.idle": "2021-11-11T14:19:17.186115Z",
     "shell.execute_reply": "2021-11-11T14:19:17.186690Z",
     "shell.execute_reply.started": "2021-11-11T12:51:39.853092Z"
    },
    "papermill": {
     "duration": 0.10148,
     "end_time": "2021-11-11T14:19:17.186845",
     "exception": false,
     "start_time": "2021-11-11T14:19:17.085365",
     "status": "completed"
    },
    "tags": []
   },
   "outputs": [],
   "source": [
    "#Define theme for matplotlib and seaborn to ensure consistency\n",
    "sns.set_theme()"
   ]
  },
  {
   "cell_type": "markdown",
   "id": "4265654f",
   "metadata": {
    "papermill": {
     "duration": 0.081074,
     "end_time": "2021-11-11T14:19:17.349200",
     "exception": false,
     "start_time": "2021-11-11T14:19:17.268126",
     "status": "completed"
    },
    "tags": []
   },
   "source": [
    "# Read Data and review"
   ]
  },
  {
   "cell_type": "code",
   "execution_count": 3,
   "id": "fe5d9930",
   "metadata": {
    "execution": {
     "iopub.execute_input": "2021-11-11T14:19:17.514906Z",
     "iopub.status.busy": "2021-11-11T14:19:17.514308Z",
     "iopub.status.idle": "2021-11-11T14:19:58.093037Z",
     "shell.execute_reply": "2021-11-11T14:19:58.092297Z",
     "shell.execute_reply.started": "2021-11-11T12:51:39.867052Z"
    },
    "papermill": {
     "duration": 40.662473,
     "end_time": "2021-11-11T14:19:58.093201",
     "exception": false,
     "start_time": "2021-11-11T14:19:17.430728",
     "status": "completed"
    },
    "tags": []
   },
   "outputs": [],
   "source": [
    "df = pd.read_csv('../input/lending-club/accepted_2007_to_2018q4.csv/accepted_2007_to_2018Q4.csv',\n",
    "                 usecols=['loan_amnt', 'term', 'int_rate', 'installment', 'grade', 'sub_grade',\n",
    "                          'emp_title', 'emp_length', 'home_ownership', 'annual_inc',\n",
    "                          'verification_status', 'issue_d', 'loan_status', 'purpose', 'title',\"addr_state\",\n",
    "                          'dti', 'earliest_cr_line', 'open_acc', 'pub_rec', 'revol_bal',\n",
    "                          'revol_util', 'total_acc', 'initial_list_status', 'application_type',\n",
    "                          'mort_acc', 'pub_rec_bankruptcies'])"
   ]
  },
  {
   "cell_type": "code",
   "execution_count": 4,
   "id": "7df9d611",
   "metadata": {
    "execution": {
     "iopub.execute_input": "2021-11-11T14:19:58.268400Z",
     "iopub.status.busy": "2021-11-11T14:19:58.261969Z",
     "iopub.status.idle": "2021-11-11T14:19:58.299632Z",
     "shell.execute_reply": "2021-11-11T14:19:58.299072Z",
     "shell.execute_reply.started": "2021-11-11T12:52:19.878066Z"
    },
    "papermill": {
     "duration": 0.126492,
     "end_time": "2021-11-11T14:19:58.299774",
     "exception": false,
     "start_time": "2021-11-11T14:19:58.173282",
     "status": "completed"
    },
    "tags": []
   },
   "outputs": [
    {
     "data": {
      "text/html": [
       "<div>\n",
       "<style scoped>\n",
       "    .dataframe tbody tr th:only-of-type {\n",
       "        vertical-align: middle;\n",
       "    }\n",
       "\n",
       "    .dataframe tbody tr th {\n",
       "        vertical-align: top;\n",
       "    }\n",
       "\n",
       "    .dataframe thead th {\n",
       "        text-align: right;\n",
       "    }\n",
       "</style>\n",
       "<table border=\"1\" class=\"dataframe\">\n",
       "  <thead>\n",
       "    <tr style=\"text-align: right;\">\n",
       "      <th></th>\n",
       "      <th>loan_amnt</th>\n",
       "      <th>term</th>\n",
       "      <th>int_rate</th>\n",
       "      <th>installment</th>\n",
       "      <th>grade</th>\n",
       "      <th>sub_grade</th>\n",
       "      <th>emp_title</th>\n",
       "      <th>emp_length</th>\n",
       "      <th>home_ownership</th>\n",
       "      <th>annual_inc</th>\n",
       "      <th>...</th>\n",
       "      <th>earliest_cr_line</th>\n",
       "      <th>open_acc</th>\n",
       "      <th>pub_rec</th>\n",
       "      <th>revol_bal</th>\n",
       "      <th>revol_util</th>\n",
       "      <th>total_acc</th>\n",
       "      <th>initial_list_status</th>\n",
       "      <th>application_type</th>\n",
       "      <th>mort_acc</th>\n",
       "      <th>pub_rec_bankruptcies</th>\n",
       "    </tr>\n",
       "  </thead>\n",
       "  <tbody>\n",
       "    <tr>\n",
       "      <th>0</th>\n",
       "      <td>3600.0</td>\n",
       "      <td>36 months</td>\n",
       "      <td>13.99</td>\n",
       "      <td>123.03</td>\n",
       "      <td>C</td>\n",
       "      <td>C4</td>\n",
       "      <td>leadman</td>\n",
       "      <td>10+ years</td>\n",
       "      <td>MORTGAGE</td>\n",
       "      <td>55000.0</td>\n",
       "      <td>...</td>\n",
       "      <td>Aug-2003</td>\n",
       "      <td>7.0</td>\n",
       "      <td>0.0</td>\n",
       "      <td>2765.0</td>\n",
       "      <td>29.7</td>\n",
       "      <td>13.0</td>\n",
       "      <td>w</td>\n",
       "      <td>Individual</td>\n",
       "      <td>1.0</td>\n",
       "      <td>0.0</td>\n",
       "    </tr>\n",
       "    <tr>\n",
       "      <th>1</th>\n",
       "      <td>24700.0</td>\n",
       "      <td>36 months</td>\n",
       "      <td>11.99</td>\n",
       "      <td>820.28</td>\n",
       "      <td>C</td>\n",
       "      <td>C1</td>\n",
       "      <td>Engineer</td>\n",
       "      <td>10+ years</td>\n",
       "      <td>MORTGAGE</td>\n",
       "      <td>65000.0</td>\n",
       "      <td>...</td>\n",
       "      <td>Dec-1999</td>\n",
       "      <td>22.0</td>\n",
       "      <td>0.0</td>\n",
       "      <td>21470.0</td>\n",
       "      <td>19.2</td>\n",
       "      <td>38.0</td>\n",
       "      <td>w</td>\n",
       "      <td>Individual</td>\n",
       "      <td>4.0</td>\n",
       "      <td>0.0</td>\n",
       "    </tr>\n",
       "    <tr>\n",
       "      <th>2</th>\n",
       "      <td>20000.0</td>\n",
       "      <td>60 months</td>\n",
       "      <td>10.78</td>\n",
       "      <td>432.66</td>\n",
       "      <td>B</td>\n",
       "      <td>B4</td>\n",
       "      <td>truck driver</td>\n",
       "      <td>10+ years</td>\n",
       "      <td>MORTGAGE</td>\n",
       "      <td>63000.0</td>\n",
       "      <td>...</td>\n",
       "      <td>Aug-2000</td>\n",
       "      <td>6.0</td>\n",
       "      <td>0.0</td>\n",
       "      <td>7869.0</td>\n",
       "      <td>56.2</td>\n",
       "      <td>18.0</td>\n",
       "      <td>w</td>\n",
       "      <td>Joint App</td>\n",
       "      <td>5.0</td>\n",
       "      <td>0.0</td>\n",
       "    </tr>\n",
       "    <tr>\n",
       "      <th>3</th>\n",
       "      <td>35000.0</td>\n",
       "      <td>60 months</td>\n",
       "      <td>14.85</td>\n",
       "      <td>829.90</td>\n",
       "      <td>C</td>\n",
       "      <td>C5</td>\n",
       "      <td>Information Systems Officer</td>\n",
       "      <td>10+ years</td>\n",
       "      <td>MORTGAGE</td>\n",
       "      <td>110000.0</td>\n",
       "      <td>...</td>\n",
       "      <td>Sep-2008</td>\n",
       "      <td>13.0</td>\n",
       "      <td>0.0</td>\n",
       "      <td>7802.0</td>\n",
       "      <td>11.6</td>\n",
       "      <td>17.0</td>\n",
       "      <td>w</td>\n",
       "      <td>Individual</td>\n",
       "      <td>1.0</td>\n",
       "      <td>0.0</td>\n",
       "    </tr>\n",
       "    <tr>\n",
       "      <th>4</th>\n",
       "      <td>10400.0</td>\n",
       "      <td>60 months</td>\n",
       "      <td>22.45</td>\n",
       "      <td>289.91</td>\n",
       "      <td>F</td>\n",
       "      <td>F1</td>\n",
       "      <td>Contract Specialist</td>\n",
       "      <td>3 years</td>\n",
       "      <td>MORTGAGE</td>\n",
       "      <td>104433.0</td>\n",
       "      <td>...</td>\n",
       "      <td>Jun-1998</td>\n",
       "      <td>12.0</td>\n",
       "      <td>0.0</td>\n",
       "      <td>21929.0</td>\n",
       "      <td>64.5</td>\n",
       "      <td>35.0</td>\n",
       "      <td>w</td>\n",
       "      <td>Individual</td>\n",
       "      <td>6.0</td>\n",
       "      <td>0.0</td>\n",
       "    </tr>\n",
       "  </tbody>\n",
       "</table>\n",
       "<p>5 rows × 27 columns</p>\n",
       "</div>"
      ],
      "text/plain": [
       "   loan_amnt        term  int_rate  installment grade sub_grade  \\\n",
       "0     3600.0   36 months     13.99       123.03     C        C4   \n",
       "1    24700.0   36 months     11.99       820.28     C        C1   \n",
       "2    20000.0   60 months     10.78       432.66     B        B4   \n",
       "3    35000.0   60 months     14.85       829.90     C        C5   \n",
       "4    10400.0   60 months     22.45       289.91     F        F1   \n",
       "\n",
       "                     emp_title emp_length home_ownership  annual_inc  ...  \\\n",
       "0                      leadman  10+ years       MORTGAGE     55000.0  ...   \n",
       "1                     Engineer  10+ years       MORTGAGE     65000.0  ...   \n",
       "2                 truck driver  10+ years       MORTGAGE     63000.0  ...   \n",
       "3  Information Systems Officer  10+ years       MORTGAGE    110000.0  ...   \n",
       "4          Contract Specialist    3 years       MORTGAGE    104433.0  ...   \n",
       "\n",
       "  earliest_cr_line open_acc pub_rec revol_bal revol_util total_acc  \\\n",
       "0         Aug-2003      7.0     0.0    2765.0       29.7      13.0   \n",
       "1         Dec-1999     22.0     0.0   21470.0       19.2      38.0   \n",
       "2         Aug-2000      6.0     0.0    7869.0       56.2      18.0   \n",
       "3         Sep-2008     13.0     0.0    7802.0       11.6      17.0   \n",
       "4         Jun-1998     12.0     0.0   21929.0       64.5      35.0   \n",
       "\n",
       "   initial_list_status application_type  mort_acc  pub_rec_bankruptcies  \n",
       "0                    w       Individual       1.0                   0.0  \n",
       "1                    w       Individual       4.0                   0.0  \n",
       "2                    w        Joint App       5.0                   0.0  \n",
       "3                    w       Individual       1.0                   0.0  \n",
       "4                    w       Individual       6.0                   0.0  \n",
       "\n",
       "[5 rows x 27 columns]"
      ]
     },
     "execution_count": 4,
     "metadata": {},
     "output_type": "execute_result"
    }
   ],
   "source": [
    "df.head()"
   ]
  },
  {
   "cell_type": "code",
   "execution_count": 5,
   "id": "ef1c8e57",
   "metadata": {
    "execution": {
     "iopub.execute_input": "2021-11-11T14:19:58.467682Z",
     "iopub.status.busy": "2021-11-11T14:19:58.466861Z",
     "iopub.status.idle": "2021-11-11T14:19:58.470466Z",
     "shell.execute_reply": "2021-11-11T14:19:58.469897Z",
     "shell.execute_reply.started": "2021-11-11T12:52:19.928735Z"
    },
    "papermill": {
     "duration": 0.089282,
     "end_time": "2021-11-11T14:19:58.470598",
     "exception": false,
     "start_time": "2021-11-11T14:19:58.381316",
     "status": "completed"
    },
    "tags": []
   },
   "outputs": [
    {
     "data": {
      "text/plain": [
       "(2260701, 27)"
      ]
     },
     "execution_count": 5,
     "metadata": {},
     "output_type": "execute_result"
    }
   ],
   "source": [
    "df.shape"
   ]
  },
  {
   "cell_type": "code",
   "execution_count": 6,
   "id": "3a2ebed0",
   "metadata": {
    "execution": {
     "iopub.execute_input": "2021-11-11T14:19:58.649932Z",
     "iopub.status.busy": "2021-11-11T14:19:58.649266Z",
     "iopub.status.idle": "2021-11-11T14:19:58.662605Z",
     "shell.execute_reply": "2021-11-11T14:19:58.663084Z",
     "shell.execute_reply.started": "2021-11-11T12:52:19.936175Z"
    },
    "papermill": {
     "duration": 0.105038,
     "end_time": "2021-11-11T14:19:58.663256",
     "exception": false,
     "start_time": "2021-11-11T14:19:58.558218",
     "status": "completed"
    },
    "tags": []
   },
   "outputs": [
    {
     "name": "stdout",
     "output_type": "stream",
     "text": [
      "<class 'pandas.core.frame.DataFrame'>\n",
      "RangeIndex: 2260701 entries, 0 to 2260700\n",
      "Data columns (total 27 columns):\n",
      " #   Column                Dtype  \n",
      "---  ------                -----  \n",
      " 0   loan_amnt             float64\n",
      " 1   term                  object \n",
      " 2   int_rate              float64\n",
      " 3   installment           float64\n",
      " 4   grade                 object \n",
      " 5   sub_grade             object \n",
      " 6   emp_title             object \n",
      " 7   emp_length            object \n",
      " 8   home_ownership        object \n",
      " 9   annual_inc            float64\n",
      " 10  verification_status   object \n",
      " 11  issue_d               object \n",
      " 12  loan_status           object \n",
      " 13  purpose               object \n",
      " 14  title                 object \n",
      " 15  addr_state            object \n",
      " 16  dti                   float64\n",
      " 17  earliest_cr_line      object \n",
      " 18  open_acc              float64\n",
      " 19  pub_rec               float64\n",
      " 20  revol_bal             float64\n",
      " 21  revol_util            float64\n",
      " 22  total_acc             float64\n",
      " 23  initial_list_status   object \n",
      " 24  application_type      object \n",
      " 25  mort_acc              float64\n",
      " 26  pub_rec_bankruptcies  float64\n",
      "dtypes: float64(12), object(15)\n",
      "memory usage: 465.7+ MB\n"
     ]
    }
   ],
   "source": [
    "df.info()"
   ]
  },
  {
   "cell_type": "code",
   "execution_count": 7,
   "id": "02eb9866",
   "metadata": {
    "execution": {
     "iopub.execute_input": "2021-11-11T14:19:58.831813Z",
     "iopub.status.busy": "2021-11-11T14:19:58.830885Z",
     "iopub.status.idle": "2021-11-11T14:19:59.192268Z",
     "shell.execute_reply": "2021-11-11T14:19:59.192736Z",
     "shell.execute_reply.started": "2021-11-11T12:52:19.965901Z"
    },
    "papermill": {
     "duration": 0.446558,
     "end_time": "2021-11-11T14:19:59.192904",
     "exception": false,
     "start_time": "2021-11-11T14:19:58.746346",
     "status": "completed"
    },
    "tags": []
   },
   "outputs": [
    {
     "data": {
      "text/plain": [
       "Fully Paid                                             1076751\n",
       "Current                                                 878317\n",
       "Charged Off                                             268559\n",
       "Late (31-120 days)                                       21467\n",
       "In Grace Period                                           8436\n",
       "Late (16-30 days)                                         4349\n",
       "Does not meet the credit policy. Status:Fully Paid        1988\n",
       "Does not meet the credit policy. Status:Charged Off        761\n",
       "Default                                                     40\n",
       "NaN                                                         33\n",
       "Name: loan_status, dtype: int64"
      ]
     },
     "execution_count": 7,
     "metadata": {},
     "output_type": "execute_result"
    }
   ],
   "source": [
    "#target analysis\n",
    "df[\"loan_status\"].value_counts(dropna = False)"
   ]
  },
  {
   "cell_type": "markdown",
   "id": "0988ff8e",
   "metadata": {
    "papermill": {
     "duration": 0.081856,
     "end_time": "2021-11-11T14:19:59.357424",
     "exception": false,
     "start_time": "2021-11-11T14:19:59.275568",
     "status": "completed"
    },
    "tags": []
   },
   "source": [
    "note the null values in target "
   ]
  },
  {
   "cell_type": "markdown",
   "id": "a5c299bf",
   "metadata": {
    "papermill": {
     "duration": 0.08202,
     "end_time": "2021-11-11T14:19:59.520730",
     "exception": false,
     "start_time": "2021-11-11T14:19:59.438710",
     "status": "completed"
    },
    "tags": []
   },
   "source": [
    "# Target Preprocessing\n",
    "Looking at the target there are multiple categories. \\\n",
    "For our analysis we want to define a Binary classification of ***Default vs Paid***"
   ]
  },
  {
   "cell_type": "code",
   "execution_count": 8,
   "id": "73e877a6",
   "metadata": {
    "execution": {
     "iopub.execute_input": "2021-11-11T14:19:59.689805Z",
     "iopub.status.busy": "2021-11-11T14:19:59.688840Z",
     "iopub.status.idle": "2021-11-11T14:19:59.693951Z",
     "shell.execute_reply": "2021-11-11T14:19:59.694469Z",
     "shell.execute_reply.started": "2021-11-11T12:52:20.339847Z"
    },
    "papermill": {
     "duration": 0.091171,
     "end_time": "2021-11-11T14:19:59.694628",
     "exception": false,
     "start_time": "2021-11-11T14:19:59.603457",
     "status": "completed"
    },
    "tags": []
   },
   "outputs": [],
   "source": [
    "replace_status = {\"Fully Paid\":\"Paid\",\n",
    "             \"Current\": \"Paid\",\n",
    "             \"Charged Off\": \"Default\",\n",
    "              \"Does not meet the credit policy. Status:Charged Off\":\"Default\",\n",
    "              \"Does not meet the credit policy. Status:Charged Off\":\"Default\",\n",
    "              \"Does not meet the credit policy. Status:Fully Paid\":\"Paid\",\n",
    "              \"Late (31-120 days)\":\"Late\",\n",
    "              \"Late (16-30 days)\":\"Late\",\n",
    "              \"In Grace Period\":\"Late\",\n",
    "              \"Default\":\"Default\"\n",
    "             }"
   ]
  },
  {
   "cell_type": "code",
   "execution_count": 9,
   "id": "aad559eb",
   "metadata": {
    "execution": {
     "iopub.execute_input": "2021-11-11T14:19:59.864589Z",
     "iopub.status.busy": "2021-11-11T14:19:59.863901Z",
     "iopub.status.idle": "2021-11-11T14:20:01.148128Z",
     "shell.execute_reply": "2021-11-11T14:20:01.147500Z",
     "shell.execute_reply.started": "2021-11-11T12:52:20.352539Z"
    },
    "papermill": {
     "duration": 1.36993,
     "end_time": "2021-11-11T14:20:01.148319",
     "exception": false,
     "start_time": "2021-11-11T14:19:59.778389",
     "status": "completed"
    },
    "tags": []
   },
   "outputs": [],
   "source": [
    "df[\"loan_status\"] = df[\"loan_status\"].replace(replace_status)"
   ]
  },
  {
   "cell_type": "markdown",
   "id": "8c9f3d4d",
   "metadata": {
    "papermill": {
     "duration": 0.082881,
     "end_time": "2021-11-11T14:20:01.312013",
     "exception": false,
     "start_time": "2021-11-11T14:20:01.229132",
     "status": "completed"
    },
    "tags": []
   },
   "source": [
    "We will drop everything NOT ***Default or Paid*** i.e. null and Late \\\n",
    "In another notebook we can investigate how ***Late*** payments affect ***Default*** and look at imputing the null values"
   ]
  },
  {
   "cell_type": "code",
   "execution_count": 10,
   "id": "bf50f5c4",
   "metadata": {
    "execution": {
     "iopub.execute_input": "2021-11-11T14:20:02.097024Z",
     "iopub.status.busy": "2021-11-11T14:20:02.096356Z",
     "iopub.status.idle": "2021-11-11T14:20:02.497004Z",
     "shell.execute_reply": "2021-11-11T14:20:02.496175Z",
     "shell.execute_reply.started": "2021-11-11T12:52:21.668387Z"
    },
    "papermill": {
     "duration": 1.102552,
     "end_time": "2021-11-11T14:20:02.497200",
     "exception": false,
     "start_time": "2021-11-11T14:20:01.394648",
     "status": "completed"
    },
    "tags": []
   },
   "outputs": [],
   "source": [
    "# Keep Default or Paid loans only\n",
    "df = df[ (df[\"loan_status\"]== \"Paid\") | (df[\"loan_status\"]== \"Default\")]"
   ]
  },
  {
   "cell_type": "code",
   "execution_count": 11,
   "id": "1a110e85",
   "metadata": {
    "execution": {
     "iopub.execute_input": "2021-11-11T14:20:02.667449Z",
     "iopub.status.busy": "2021-11-11T14:20:02.666584Z",
     "iopub.status.idle": "2021-11-11T14:20:02.924957Z",
     "shell.execute_reply": "2021-11-11T14:20:02.924457Z",
     "shell.execute_reply.started": "2021-11-11T12:52:22.695496Z"
    },
    "papermill": {
     "duration": 0.345312,
     "end_time": "2021-11-11T14:20:02.925091",
     "exception": false,
     "start_time": "2021-11-11T14:20:02.579779",
     "status": "completed"
    },
    "tags": []
   },
   "outputs": [
    {
     "data": {
      "text/plain": [
       "Paid       1957056\n",
       "Default     269360\n",
       "Name: loan_status, dtype: int64"
      ]
     },
     "execution_count": 11,
     "metadata": {},
     "output_type": "execute_result"
    }
   ],
   "source": [
    "df[\"loan_status\"].value_counts(dropna= False)"
   ]
  },
  {
   "cell_type": "markdown",
   "id": "f4bf64c8",
   "metadata": {
    "papermill": {
     "duration": 0.08234,
     "end_time": "2021-11-11T14:20:03.091979",
     "exception": false,
     "start_time": "2021-11-11T14:20:03.009639",
     "status": "completed"
    },
    "tags": []
   },
   "source": [
    "# Exploratory Data Analysis\n",
    "1. individual column and data type investigation \n",
    "1. correlation analysis"
   ]
  },
  {
   "cell_type": "code",
   "execution_count": 12,
   "id": "9d803777",
   "metadata": {
    "execution": {
     "iopub.execute_input": "2021-11-11T14:20:03.422644Z",
     "iopub.status.busy": "2021-11-11T14:20:03.421443Z",
     "iopub.status.idle": "2021-11-11T14:20:04.392610Z",
     "shell.execute_reply": "2021-11-11T14:20:04.391988Z",
     "shell.execute_reply.started": "2021-11-11T12:52:22.961038Z"
    },
    "papermill": {
     "duration": 1.218345,
     "end_time": "2021-11-11T14:20:04.392752",
     "exception": false,
     "start_time": "2021-11-11T14:20:03.174407",
     "status": "completed"
    },
    "tags": []
   },
   "outputs": [
    {
     "data": {
      "text/html": [
       "<div>\n",
       "<style scoped>\n",
       "    .dataframe tbody tr th:only-of-type {\n",
       "        vertical-align: middle;\n",
       "    }\n",
       "\n",
       "    .dataframe tbody tr th {\n",
       "        vertical-align: top;\n",
       "    }\n",
       "\n",
       "    .dataframe thead th {\n",
       "        text-align: right;\n",
       "    }\n",
       "</style>\n",
       "<table border=\"1\" class=\"dataframe\">\n",
       "  <thead>\n",
       "    <tr style=\"text-align: right;\">\n",
       "      <th></th>\n",
       "      <th>count</th>\n",
       "      <th>mean</th>\n",
       "      <th>std</th>\n",
       "      <th>min</th>\n",
       "      <th>25%</th>\n",
       "      <th>50%</th>\n",
       "      <th>75%</th>\n",
       "      <th>max</th>\n",
       "    </tr>\n",
       "  </thead>\n",
       "  <tbody>\n",
       "    <tr>\n",
       "      <th>loan_amnt</th>\n",
       "      <td>2226416.0</td>\n",
       "      <td>15014.086889</td>\n",
       "      <td>9177.770847</td>\n",
       "      <td>500.00</td>\n",
       "      <td>8000.00</td>\n",
       "      <td>12800.00</td>\n",
       "      <td>20000.00</td>\n",
       "      <td>4.000000e+04</td>\n",
       "    </tr>\n",
       "    <tr>\n",
       "      <th>int_rate</th>\n",
       "      <td>2226416.0</td>\n",
       "      <td>13.054793</td>\n",
       "      <td>4.814616</td>\n",
       "      <td>5.31</td>\n",
       "      <td>9.49</td>\n",
       "      <td>12.62</td>\n",
       "      <td>15.88</td>\n",
       "      <td>3.099000e+01</td>\n",
       "    </tr>\n",
       "    <tr>\n",
       "      <th>installment</th>\n",
       "      <td>2226416.0</td>\n",
       "      <td>444.870133</td>\n",
       "      <td>266.732332</td>\n",
       "      <td>4.93</td>\n",
       "      <td>251.36</td>\n",
       "      <td>377.37</td>\n",
       "      <td>591.02</td>\n",
       "      <td>1.719830e+03</td>\n",
       "    </tr>\n",
       "    <tr>\n",
       "      <th>annual_inc</th>\n",
       "      <td>2226412.0</td>\n",
       "      <td>77986.903246</td>\n",
       "      <td>113094.663725</td>\n",
       "      <td>0.00</td>\n",
       "      <td>46000.00</td>\n",
       "      <td>65000.00</td>\n",
       "      <td>93000.00</td>\n",
       "      <td>1.100000e+08</td>\n",
       "    </tr>\n",
       "    <tr>\n",
       "      <th>dti</th>\n",
       "      <td>2224743.0</td>\n",
       "      <td>18.803585</td>\n",
       "      <td>14.128467</td>\n",
       "      <td>-1.00</td>\n",
       "      <td>11.89</td>\n",
       "      <td>17.82</td>\n",
       "      <td>24.47</td>\n",
       "      <td>9.990000e+02</td>\n",
       "    </tr>\n",
       "    <tr>\n",
       "      <th>open_acc</th>\n",
       "      <td>2226387.0</td>\n",
       "      <td>11.611802</td>\n",
       "      <td>5.636687</td>\n",
       "      <td>0.00</td>\n",
       "      <td>8.00</td>\n",
       "      <td>11.00</td>\n",
       "      <td>14.00</td>\n",
       "      <td>1.010000e+02</td>\n",
       "    </tr>\n",
       "    <tr>\n",
       "      <th>pub_rec</th>\n",
       "      <td>2226387.0</td>\n",
       "      <td>0.197034</td>\n",
       "      <td>0.568649</td>\n",
       "      <td>0.00</td>\n",
       "      <td>0.00</td>\n",
       "      <td>0.00</td>\n",
       "      <td>0.00</td>\n",
       "      <td>8.600000e+01</td>\n",
       "    </tr>\n",
       "    <tr>\n",
       "      <th>revol_bal</th>\n",
       "      <td>2226416.0</td>\n",
       "      <td>16676.424943</td>\n",
       "      <td>22979.604990</td>\n",
       "      <td>0.00</td>\n",
       "      <td>5958.00</td>\n",
       "      <td>11333.00</td>\n",
       "      <td>20265.00</td>\n",
       "      <td>2.904836e+06</td>\n",
       "    </tr>\n",
       "    <tr>\n",
       "      <th>revol_util</th>\n",
       "      <td>2224652.0</td>\n",
       "      <td>50.334659</td>\n",
       "      <td>24.708385</td>\n",
       "      <td>0.00</td>\n",
       "      <td>31.50</td>\n",
       "      <td>50.30</td>\n",
       "      <td>69.40</td>\n",
       "      <td>8.923000e+02</td>\n",
       "    </tr>\n",
       "    <tr>\n",
       "      <th>total_acc</th>\n",
       "      <td>2226387.0</td>\n",
       "      <td>24.177867</td>\n",
       "      <td>11.983757</td>\n",
       "      <td>1.00</td>\n",
       "      <td>15.00</td>\n",
       "      <td>22.00</td>\n",
       "      <td>31.00</td>\n",
       "      <td>1.760000e+02</td>\n",
       "    </tr>\n",
       "    <tr>\n",
       "      <th>mort_acc</th>\n",
       "      <td>2176386.0</td>\n",
       "      <td>1.559983</td>\n",
       "      <td>1.907806</td>\n",
       "      <td>0.00</td>\n",
       "      <td>0.00</td>\n",
       "      <td>1.00</td>\n",
       "      <td>3.00</td>\n",
       "      <td>9.400000e+01</td>\n",
       "    </tr>\n",
       "    <tr>\n",
       "      <th>pub_rec_bankruptcies</th>\n",
       "      <td>2225051.0</td>\n",
       "      <td>0.127906</td>\n",
       "      <td>0.364246</td>\n",
       "      <td>0.00</td>\n",
       "      <td>0.00</td>\n",
       "      <td>0.00</td>\n",
       "      <td>0.00</td>\n",
       "      <td>1.200000e+01</td>\n",
       "    </tr>\n",
       "  </tbody>\n",
       "</table>\n",
       "</div>"
      ],
      "text/plain": [
       "                          count          mean            std     min  \\\n",
       "loan_amnt             2226416.0  15014.086889    9177.770847  500.00   \n",
       "int_rate              2226416.0     13.054793       4.814616    5.31   \n",
       "installment           2226416.0    444.870133     266.732332    4.93   \n",
       "annual_inc            2226412.0  77986.903246  113094.663725    0.00   \n",
       "dti                   2224743.0     18.803585      14.128467   -1.00   \n",
       "open_acc              2226387.0     11.611802       5.636687    0.00   \n",
       "pub_rec               2226387.0      0.197034       0.568649    0.00   \n",
       "revol_bal             2226416.0  16676.424943   22979.604990    0.00   \n",
       "revol_util            2224652.0     50.334659      24.708385    0.00   \n",
       "total_acc             2226387.0     24.177867      11.983757    1.00   \n",
       "mort_acc              2176386.0      1.559983       1.907806    0.00   \n",
       "pub_rec_bankruptcies  2225051.0      0.127906       0.364246    0.00   \n",
       "\n",
       "                           25%       50%       75%           max  \n",
       "loan_amnt              8000.00  12800.00  20000.00  4.000000e+04  \n",
       "int_rate                  9.49     12.62     15.88  3.099000e+01  \n",
       "installment             251.36    377.37    591.02  1.719830e+03  \n",
       "annual_inc            46000.00  65000.00  93000.00  1.100000e+08  \n",
       "dti                      11.89     17.82     24.47  9.990000e+02  \n",
       "open_acc                  8.00     11.00     14.00  1.010000e+02  \n",
       "pub_rec                   0.00      0.00      0.00  8.600000e+01  \n",
       "revol_bal              5958.00  11333.00  20265.00  2.904836e+06  \n",
       "revol_util               31.50     50.30     69.40  8.923000e+02  \n",
       "total_acc                15.00     22.00     31.00  1.760000e+02  \n",
       "mort_acc                  0.00      1.00      3.00  9.400000e+01  \n",
       "pub_rec_bankruptcies      0.00      0.00      0.00  1.200000e+01  "
      ]
     },
     "execution_count": 12,
     "metadata": {},
     "output_type": "execute_result"
    }
   ],
   "source": [
    "df.describe().transpose()"
   ]
  },
  {
   "cell_type": "code",
   "execution_count": 13,
   "id": "4004f6e5",
   "metadata": {
    "execution": {
     "iopub.execute_input": "2021-11-11T14:20:04.566564Z",
     "iopub.status.busy": "2021-11-11T14:20:04.565591Z",
     "iopub.status.idle": "2021-11-11T14:20:04.569706Z",
     "shell.execute_reply": "2021-11-11T14:20:04.569091Z",
     "shell.execute_reply.started": "2021-11-11T12:52:24.043088Z"
    },
    "papermill": {
     "duration": 0.095001,
     "end_time": "2021-11-11T14:20:04.569835",
     "exception": false,
     "start_time": "2021-11-11T14:20:04.474834",
     "status": "completed"
    },
    "tags": []
   },
   "outputs": [
    {
     "data": {
      "text/plain": [
       "(2226416, 27)"
      ]
     },
     "execution_count": 13,
     "metadata": {},
     "output_type": "execute_result"
    }
   ],
   "source": [
    "df.shape"
   ]
  },
  {
   "cell_type": "code",
   "execution_count": 14,
   "id": "a63f83a3",
   "metadata": {
    "execution": {
     "iopub.execute_input": "2021-11-11T14:20:04.993474Z",
     "iopub.status.busy": "2021-11-11T14:20:04.992676Z",
     "iopub.status.idle": "2021-11-11T14:20:05.256466Z",
     "shell.execute_reply": "2021-11-11T14:20:05.256993Z",
     "shell.execute_reply.started": "2021-11-11T12:52:24.0515Z"
    },
    "papermill": {
     "duration": 0.604085,
     "end_time": "2021-11-11T14:20:05.257175",
     "exception": false,
     "start_time": "2021-11-11T14:20:04.653090",
     "status": "completed"
    },
    "tags": []
   },
   "outputs": [
    {
     "data": {
      "text/plain": [
       "<AxesSubplot:>"
      ]
     },
     "execution_count": 14,
     "metadata": {},
     "output_type": "execute_result"
    },
    {
     "data": {
      "image/png": "[encoded data removed]",
      "text/plain": [
       "<Figure size 720x360 with 1 Axes>"
      ]
     },
     "metadata": {},
     "output_type": "display_data"
    }
   ],
   "source": [
    "#Target analysis\n",
    "df[\"loan_status\"].value_counts(dropna = False).plot(kind = \"bar\",figsize = (10,5))"
   ]
  },
  {
   "cell_type": "markdown",
   "id": "f4b22b23",
   "metadata": {
    "papermill": {
     "duration": 0.083438,
     "end_time": "2021-11-11T14:20:05.425981",
     "exception": false,
     "start_time": "2021-11-11T14:20:05.342543",
     "status": "completed"
    },
    "tags": []
   },
   "source": [
    "***Note*** Very imbalanced data set \\\n",
    "***NB*** for determining the type of metric used in prediction i.e. accuracy will not work "
   ]
  },
  {
   "cell_type": "markdown",
   "id": "c097aeb5",
   "metadata": {
    "papermill": {
     "duration": 0.106524,
     "end_time": "2021-11-11T14:20:05.615985",
     "exception": false,
     "start_time": "2021-11-11T14:20:05.509461",
     "status": "completed"
    },
    "tags": []
   },
   "source": [
    "### Non-numeric analysis"
   ]
  },
  {
   "cell_type": "code",
   "execution_count": 15,
   "id": "7d8f364b",
   "metadata": {
    "execution": {
     "iopub.execute_input": "2021-11-11T14:20:05.790093Z",
     "iopub.status.busy": "2021-11-11T14:20:05.789498Z",
     "iopub.status.idle": "2021-11-11T14:20:15.339248Z",
     "shell.execute_reply": "2021-11-11T14:20:15.339738Z",
     "shell.execute_reply.started": "2021-11-11T12:52:24.578792Z"
    },
    "papermill": {
     "duration": 9.637915,
     "end_time": "2021-11-11T14:20:15.339899",
     "exception": false,
     "start_time": "2021-11-11T14:20:05.701984",
     "status": "completed"
    },
    "tags": []
   },
   "outputs": [
    {
     "data": {
      "text/html": [
       "<div>\n",
       "<style scoped>\n",
       "    .dataframe tbody tr th:only-of-type {\n",
       "        vertical-align: middle;\n",
       "    }\n",
       "\n",
       "    .dataframe tbody tr th {\n",
       "        vertical-align: top;\n",
       "    }\n",
       "\n",
       "    .dataframe thead th {\n",
       "        text-align: right;\n",
       "    }\n",
       "</style>\n",
       "<table border=\"1\" class=\"dataframe\">\n",
       "  <thead>\n",
       "    <tr style=\"text-align: right;\">\n",
       "      <th></th>\n",
       "      <th>count</th>\n",
       "      <th>unique</th>\n",
       "      <th>top</th>\n",
       "      <th>freq</th>\n",
       "    </tr>\n",
       "  </thead>\n",
       "  <tbody>\n",
       "    <tr>\n",
       "      <th>term</th>\n",
       "      <td>2226416</td>\n",
       "      <td>2</td>\n",
       "      <td>36 months</td>\n",
       "      <td>1589901</td>\n",
       "    </tr>\n",
       "    <tr>\n",
       "      <th>grade</th>\n",
       "      <td>2226416</td>\n",
       "      <td>7</td>\n",
       "      <td>B</td>\n",
       "      <td>656005</td>\n",
       "    </tr>\n",
       "    <tr>\n",
       "      <th>sub_grade</th>\n",
       "      <td>2226416</td>\n",
       "      <td>35</td>\n",
       "      <td>C1</td>\n",
       "      <td>143681</td>\n",
       "    </tr>\n",
       "    <tr>\n",
       "      <th>emp_title</th>\n",
       "      <td>2062642</td>\n",
       "      <td>507786</td>\n",
       "      <td>Teacher</td>\n",
       "      <td>38293</td>\n",
       "    </tr>\n",
       "    <tr>\n",
       "      <th>emp_length</th>\n",
       "      <td>2082396</td>\n",
       "      <td>11</td>\n",
       "      <td>10+ years</td>\n",
       "      <td>737403</td>\n",
       "    </tr>\n",
       "    <tr>\n",
       "      <th>home_ownership</th>\n",
       "      <td>2226416</td>\n",
       "      <td>6</td>\n",
       "      <td>MORTGAGE</td>\n",
       "      <td>1096160</td>\n",
       "    </tr>\n",
       "    <tr>\n",
       "      <th>verification_status</th>\n",
       "      <td>2226416</td>\n",
       "      <td>3</td>\n",
       "      <td>Source Verified</td>\n",
       "      <td>871779</td>\n",
       "    </tr>\n",
       "    <tr>\n",
       "      <th>issue_d</th>\n",
       "      <td>2226416</td>\n",
       "      <td>139</td>\n",
       "      <td>Mar-2016</td>\n",
       "      <td>61109</td>\n",
       "    </tr>\n",
       "    <tr>\n",
       "      <th>loan_status</th>\n",
       "      <td>2226416</td>\n",
       "      <td>2</td>\n",
       "      <td>Paid</td>\n",
       "      <td>1957056</td>\n",
       "    </tr>\n",
       "    <tr>\n",
       "      <th>purpose</th>\n",
       "      <td>2226416</td>\n",
       "      <td>14</td>\n",
       "      <td>debt_consolidation</td>\n",
       "      <td>1257882</td>\n",
       "    </tr>\n",
       "    <tr>\n",
       "      <th>title</th>\n",
       "      <td>2203544</td>\n",
       "      <td>63153</td>\n",
       "      <td>Debt consolidation</td>\n",
       "      <td>1133602</td>\n",
       "    </tr>\n",
       "    <tr>\n",
       "      <th>addr_state</th>\n",
       "      <td>2226416</td>\n",
       "      <td>51</td>\n",
       "      <td>CA</td>\n",
       "      <td>309861</td>\n",
       "    </tr>\n",
       "    <tr>\n",
       "      <th>earliest_cr_line</th>\n",
       "      <td>2226387</td>\n",
       "      <td>754</td>\n",
       "      <td>Sep-2004</td>\n",
       "      <td>15155</td>\n",
       "    </tr>\n",
       "    <tr>\n",
       "      <th>initial_list_status</th>\n",
       "      <td>2226416</td>\n",
       "      <td>2</td>\n",
       "      <td>w</td>\n",
       "      <td>1508623</td>\n",
       "    </tr>\n",
       "    <tr>\n",
       "      <th>application_type</th>\n",
       "      <td>2226416</td>\n",
       "      <td>2</td>\n",
       "      <td>Individual</td>\n",
       "      <td>2109484</td>\n",
       "    </tr>\n",
       "  </tbody>\n",
       "</table>\n",
       "</div>"
      ],
      "text/plain": [
       "                       count  unique                 top     freq\n",
       "term                 2226416       2           36 months  1589901\n",
       "grade                2226416       7                   B   656005\n",
       "sub_grade            2226416      35                  C1   143681\n",
       "emp_title            2062642  507786             Teacher    38293\n",
       "emp_length           2082396      11           10+ years   737403\n",
       "home_ownership       2226416       6            MORTGAGE  1096160\n",
       "verification_status  2226416       3     Source Verified   871779\n",
       "issue_d              2226416     139            Mar-2016    61109\n",
       "loan_status          2226416       2                Paid  1957056\n",
       "purpose              2226416      14  debt_consolidation  1257882\n",
       "title                2203544   63153  Debt consolidation  1133602\n",
       "addr_state           2226416      51                  CA   309861\n",
       "earliest_cr_line     2226387     754            Sep-2004    15155\n",
       "initial_list_status  2226416       2                   w  1508623\n",
       "application_type     2226416       2          Individual  2109484"
      ]
     },
     "execution_count": 15,
     "metadata": {},
     "output_type": "execute_result"
    }
   ],
   "source": [
    "# all object type features\n",
    "df.describe( include= [\"object\"]).transpose()"
   ]
  },
  {
   "cell_type": "code",
   "execution_count": 16,
   "id": "2f8c14a6",
   "metadata": {
    "execution": {
     "iopub.execute_input": "2021-11-11T14:20:15.517148Z",
     "iopub.status.busy": "2021-11-11T14:20:15.516419Z",
     "iopub.status.idle": "2021-11-11T14:20:15.521978Z",
     "shell.execute_reply": "2021-11-11T14:20:15.522488Z",
     "shell.execute_reply.started": "2021-11-11T12:52:34.203589Z"
    },
    "papermill": {
     "duration": 0.096118,
     "end_time": "2021-11-11T14:20:15.522673",
     "exception": false,
     "start_time": "2021-11-11T14:20:15.426555",
     "status": "completed"
    },
    "tags": []
   },
   "outputs": [],
   "source": [
    "def create_countplot(axes, x_val,order_val, title, rotation=\"n\"):\n",
    "    sns.countplot(ax= axes, data=df, x=x_val, order = order_val.value_counts(dropna= False).index,hue = \"loan_status\")\n",
    "    axes.set_title(title)\n",
    "    if rotation ==\"y\":\n",
    "        axes.set_xticklabels(list(order_val.unique()), rotation=90)"
   ]
  },
  {
   "cell_type": "code",
   "execution_count": 17,
   "id": "a0fcdc7d",
   "metadata": {
    "execution": {
     "iopub.execute_input": "2021-11-11T14:20:15.697460Z",
     "iopub.status.busy": "2021-11-11T14:20:15.696782Z",
     "iopub.status.idle": "2021-11-11T14:20:41.395911Z",
     "shell.execute_reply": "2021-11-11T14:20:41.396416Z",
     "shell.execute_reply.started": "2021-11-11T12:52:34.210957Z"
    },
    "papermill": {
     "duration": 25.788016,
     "end_time": "2021-11-11T14:20:41.396587",
     "exception": false,
     "start_time": "2021-11-11T14:20:15.608571",
     "status": "completed"
    },
    "tags": []
   },
   "outputs": [
    {
     "data": {
      "image/png": "[encoded data removed]",
      "text/plain": [
       "<Figure size 1440x720 with 6 Axes>"
      ]
     },
     "metadata": {},
     "output_type": "display_data"
    }
   ],
   "source": [
    "fig, ax = plt.subplots(2,3, figsize= (20,10))\n",
    "\n",
    "create_countplot(ax[0,0],'term', df[\"term\"],\"The number of payments on the loan (months)\" )\n",
    "\n",
    "create_countplot(ax[0,1],'grade', df[\"grade\"],\"Loan grade\")\n",
    "\n",
    "create_countplot(ax[0,2],'sub_grade', df[\"sub_grade\"],\"Loan sub_grade\",\"y\")\n",
    "\n",
    "create_countplot(ax[1,0],'emp_length', df[\"emp_length\"],\"Borrower length of employment (years)\", \"y\" )\n",
    "\n",
    "create_countplot(ax[1,1],'home_ownership', df[\"home_ownership\"],\"Borrower home ownership status\" )\n",
    "\n",
    "create_countplot(ax[1,2],'verification_status', df[\"verification_status\"],\"verification_status\" )\n",
    "\n",
    "\n",
    "plt.tight_layout()\n",
    "plt.show()"
   ]
  },
  {
   "cell_type": "code",
   "execution_count": 18,
   "id": "68e77c6b",
   "metadata": {
    "execution": {
     "iopub.execute_input": "2021-11-11T14:20:41.600911Z",
     "iopub.status.busy": "2021-11-11T14:20:41.597891Z",
     "iopub.status.idle": "2021-11-11T14:20:54.111125Z",
     "shell.execute_reply": "2021-11-11T14:20:54.110582Z",
     "shell.execute_reply.started": "2021-11-11T12:53:00.222022Z"
    },
    "papermill": {
     "duration": 12.626197,
     "end_time": "2021-11-11T14:20:54.111317",
     "exception": false,
     "start_time": "2021-11-11T14:20:41.485120",
     "status": "completed"
    },
    "tags": []
   },
   "outputs": [
    {
     "data": {
      "image/png": "[encoded data removed]",
      "text/plain": [
       "<Figure size 1440x432 with 3 Axes>"
      ]
     },
     "metadata": {},
     "output_type": "display_data"
    }
   ],
   "source": [
    "fig, ax = plt.subplots(1,3, figsize= (20,6))\n",
    "\n",
    "create_countplot(ax[0],'purpose', df[\"purpose\"],\"Purpose of loan\" ,\"y\")\n",
    "create_countplot(ax[1],'initial_list_status', df[\"initial_list_status\"],\"Initial listing status of the loan\" )\n",
    "create_countplot(ax[2],'application_type', df[\"application_type\"],\"Application type\" )\n",
    "\n",
    "\n",
    "\n",
    "plt.tight_layout()\n",
    "plt.show()"
   ]
  },
  {
   "cell_type": "code",
   "execution_count": 19,
   "id": "5b1b46b2",
   "metadata": {
    "execution": {
     "iopub.execute_input": "2021-11-11T14:20:54.298396Z",
     "iopub.status.busy": "2021-11-11T14:20:54.297720Z",
     "iopub.status.idle": "2021-11-11T14:20:55.324069Z",
     "shell.execute_reply": "2021-11-11T14:20:55.324614Z",
     "shell.execute_reply.started": "2021-11-11T12:53:12.741992Z"
    },
    "papermill": {
     "duration": 1.122111,
     "end_time": "2021-11-11T14:20:55.324783",
     "exception": false,
     "start_time": "2021-11-11T14:20:54.202672",
     "status": "completed"
    },
    "tags": []
   },
   "outputs": [
    {
     "data": {
      "text/plain": [
       "NaN                                     163774\n",
       "Teacher                                  38293\n",
       "Manager                                  33693\n",
       "Owner                                    21394\n",
       "Registered Nurse                         15622\n",
       "                                         ...  \n",
       "Medication Aid - Memory Support Unit         1\n",
       "Driver salemen                               1\n",
       "Account Specialist III                       1\n",
       "Customer Care Lead                           1\n",
       "Current Operations Officer                   1\n",
       "Name: emp_title, Length: 507787, dtype: int64"
      ]
     },
     "execution_count": 19,
     "metadata": {},
     "output_type": "execute_result"
    }
   ],
   "source": [
    "## too many unique titles to plot \n",
    "df[\"emp_title\"].value_counts(dropna= False)"
   ]
  },
  {
   "cell_type": "code",
   "execution_count": 20,
   "id": "c0d8eeb4",
   "metadata": {
    "execution": {
     "iopub.execute_input": "2021-11-11T14:20:55.514311Z",
     "iopub.status.busy": "2021-11-11T14:20:55.513642Z",
     "iopub.status.idle": "2021-11-11T14:20:55.548202Z",
     "shell.execute_reply": "2021-11-11T14:20:55.548659Z",
     "shell.execute_reply.started": "2021-11-11T12:53:13.741299Z"
    },
    "papermill": {
     "duration": 0.128743,
     "end_time": "2021-11-11T14:20:55.548826",
     "exception": false,
     "start_time": "2021-11-11T14:20:55.420083",
     "status": "completed"
    },
    "tags": []
   },
   "outputs": [
    {
     "data": {
      "text/html": [
       "<div>\n",
       "<style scoped>\n",
       "    .dataframe tbody tr th:only-of-type {\n",
       "        vertical-align: middle;\n",
       "    }\n",
       "\n",
       "    .dataframe tbody tr th {\n",
       "        vertical-align: top;\n",
       "    }\n",
       "\n",
       "    .dataframe thead th {\n",
       "        text-align: right;\n",
       "    }\n",
       "</style>\n",
       "<table border=\"1\" class=\"dataframe\">\n",
       "  <thead>\n",
       "    <tr style=\"text-align: right;\">\n",
       "      <th></th>\n",
       "      <th>title</th>\n",
       "      <th>purpose</th>\n",
       "    </tr>\n",
       "  </thead>\n",
       "  <tbody>\n",
       "    <tr>\n",
       "      <th>0</th>\n",
       "      <td>Debt consolidation</td>\n",
       "      <td>debt_consolidation</td>\n",
       "    </tr>\n",
       "    <tr>\n",
       "      <th>1</th>\n",
       "      <td>Business</td>\n",
       "      <td>small_business</td>\n",
       "    </tr>\n",
       "    <tr>\n",
       "      <th>2</th>\n",
       "      <td>NaN</td>\n",
       "      <td>home_improvement</td>\n",
       "    </tr>\n",
       "    <tr>\n",
       "      <th>3</th>\n",
       "      <td>Debt consolidation</td>\n",
       "      <td>debt_consolidation</td>\n",
       "    </tr>\n",
       "    <tr>\n",
       "      <th>4</th>\n",
       "      <td>Major purchase</td>\n",
       "      <td>major_purchase</td>\n",
       "    </tr>\n",
       "    <tr>\n",
       "      <th>...</th>\n",
       "      <td>...</td>\n",
       "      <td>...</td>\n",
       "    </tr>\n",
       "    <tr>\n",
       "      <th>2260694</th>\n",
       "      <td>Home improvement</td>\n",
       "      <td>home_improvement</td>\n",
       "    </tr>\n",
       "    <tr>\n",
       "      <th>2260695</th>\n",
       "      <td>Debt consolidation</td>\n",
       "      <td>debt_consolidation</td>\n",
       "    </tr>\n",
       "    <tr>\n",
       "      <th>2260696</th>\n",
       "      <td>NaN</td>\n",
       "      <td>debt_consolidation</td>\n",
       "    </tr>\n",
       "    <tr>\n",
       "      <th>2260697</th>\n",
       "      <td>Debt consolidation</td>\n",
       "      <td>debt_consolidation</td>\n",
       "    </tr>\n",
       "    <tr>\n",
       "      <th>2260698</th>\n",
       "      <td>NaN</td>\n",
       "      <td>debt_consolidation</td>\n",
       "    </tr>\n",
       "  </tbody>\n",
       "</table>\n",
       "<p>2226416 rows × 2 columns</p>\n",
       "</div>"
      ],
      "text/plain": [
       "                      title             purpose\n",
       "0        Debt consolidation  debt_consolidation\n",
       "1                  Business      small_business\n",
       "2                       NaN    home_improvement\n",
       "3        Debt consolidation  debt_consolidation\n",
       "4            Major purchase      major_purchase\n",
       "...                     ...                 ...\n",
       "2260694    Home improvement    home_improvement\n",
       "2260695  Debt consolidation  debt_consolidation\n",
       "2260696                 NaN  debt_consolidation\n",
       "2260697  Debt consolidation  debt_consolidation\n",
       "2260698                 NaN  debt_consolidation\n",
       "\n",
       "[2226416 rows x 2 columns]"
      ]
     },
     "execution_count": 20,
     "metadata": {},
     "output_type": "execute_result"
    }
   ],
   "source": [
    "df[[\"title\",\"purpose\"]]"
   ]
  },
  {
   "cell_type": "markdown",
   "id": "ee4ce4c2",
   "metadata": {
    "papermill": {
     "duration": 0.092837,
     "end_time": "2021-11-11T14:20:55.735229",
     "exception": false,
     "start_time": "2021-11-11T14:20:55.642392",
     "status": "completed"
    },
    "tags": []
   },
   "source": [
    "Puropose and Title are essentially duplicates with Purpose being more descriptive \\\n",
    "As such we can drop Title "
   ]
  },
  {
   "cell_type": "markdown",
   "id": "ab992d96",
   "metadata": {
    "papermill": {
     "duration": 0.091058,
     "end_time": "2021-11-11T14:20:55.919852",
     "exception": false,
     "start_time": "2021-11-11T14:20:55.828794",
     "status": "completed"
    },
    "tags": []
   },
   "source": [
    "### Date Analysis"
   ]
  },
  {
   "cell_type": "code",
   "execution_count": 21,
   "id": "58a6dde3",
   "metadata": {
    "execution": {
     "iopub.execute_input": "2021-11-11T14:20:56.109585Z",
     "iopub.status.busy": "2021-11-11T14:20:56.108893Z",
     "iopub.status.idle": "2021-11-11T14:20:58.083674Z",
     "shell.execute_reply": "2021-11-11T14:20:58.083090Z",
     "shell.execute_reply.started": "2021-11-11T12:53:13.777925Z"
    },
    "papermill": {
     "duration": 2.071131,
     "end_time": "2021-11-11T14:20:58.083829",
     "exception": false,
     "start_time": "2021-11-11T14:20:56.012698",
     "status": "completed"
    },
    "tags": []
   },
   "outputs": [],
   "source": [
    "#convert to date \n",
    "df[\"issue_d\"] = pd.to_datetime(df[\"issue_d\"])\n",
    "df[\"earliest_cr_line\"] = pd.to_datetime(df[\"earliest_cr_line\"])"
   ]
  },
  {
   "cell_type": "code",
   "execution_count": 22,
   "id": "b24a5236",
   "metadata": {
    "execution": {
     "iopub.execute_input": "2021-11-11T14:20:58.283068Z",
     "iopub.status.busy": "2021-11-11T14:20:58.277698Z",
     "iopub.status.idle": "2021-11-11T14:20:58.966558Z",
     "shell.execute_reply": "2021-11-11T14:20:58.967055Z",
     "shell.execute_reply.started": "2021-11-11T12:53:15.78295Z"
    },
    "papermill": {
     "duration": 0.788104,
     "end_time": "2021-11-11T14:20:58.967258",
     "exception": false,
     "start_time": "2021-11-11T14:20:58.179154",
     "status": "completed"
    },
    "tags": []
   },
   "outputs": [
    {
     "data": {
      "image/png": "[encoded data removed]",
      "text/plain": [
       "<Figure size 1440x432 with 2 Axes>"
      ]
     },
     "metadata": {},
     "output_type": "display_data"
    }
   ],
   "source": [
    "fig, ax = plt.subplots(1,2, figsize= (20,6))\n",
    "\n",
    "ax[0].plot(df['issue_d'].value_counts().sort_index())\n",
    "ax[1].plot(df['earliest_cr_line'].value_counts().sort_index())\n",
    "ax[0].set_title(\"Issue date\")\n",
    "ax[1].set_title(\"Earliest credit line\")\n",
    "\n",
    "plt.tight_layout()\n",
    "plt.show()"
   ]
  },
  {
   "cell_type": "markdown",
   "id": "bcd09bcb",
   "metadata": {
    "papermill": {
     "duration": 0.09495,
     "end_time": "2021-11-11T14:20:59.157437",
     "exception": false,
     "start_time": "2021-11-11T14:20:59.062487",
     "status": "completed"
    },
    "tags": []
   },
   "source": [
    "##### Feature Engineering notes\n",
    "From the above the categorical values need to be processed"
   ]
  },
  {
   "cell_type": "markdown",
   "id": "d7ff61d7",
   "metadata": {
    "papermill": {
     "duration": 0.094615,
     "end_time": "2021-11-11T14:20:59.346909",
     "exception": false,
     "start_time": "2021-11-11T14:20:59.252294",
     "status": "completed"
    },
    "tags": []
   },
   "source": [
    "<style type=\"text/css\">\n",
    ".tg  {border-collapse:collapse;border-spacing:0;}\n",
    ".tg td{border-color:black;border-style:solid;border-width:1px;font-family:Arial, sans-serif;font-size:14px;\n",
    "  overflow:hidden;padding:10px 5px;word-break:normal;}\n",
    ".tg th{border-color:black;border-style:solid;border-width:1px;font-family:Arial, sans-serif;font-size:14px;\n",
    "  font-weight:normal;overflow:hidden;padding:10px 5px;word-break:normal;}\n",
    ".tg .tg-fymr{border-color:inherit;font-weight:bold;text-align:left;vertical-align:top}\n",
    ".tg .tg-0pky{border-color:inherit;text-align:left;vertical-align:top}\n",
    ".tg .tg-0lax{text-align:left;vertical-align:top}\n",
    "</style>\n",
    "<table class=\"tg\">\n",
    "<thead>\n",
    "  <tr>\n",
    "    <th class=\"tg-fymr\">Change</th>\n",
    "    <th class=\"tg-fymr\">Column</th>\n",
    "    <th class=\"tg-fymr\">Comment</th>\n",
    "  </tr>\n",
    "</thead>\n",
    "<tbody>\n",
    "  <tr>\n",
    "    <td class=\"tg-0pky\" rowspan=\"7\">Dummies<br><br></td>\n",
    "    <td class=\"tg-0pky\">home_ownership</td>\n",
    "    <td class=\"tg-0pky\"></td>\n",
    "  </tr>\n",
    "  <tr>\n",
    "    <td class=\"tg-0pky\">verification_status</td>\n",
    "    <td class=\"tg-0pky\"></td>\n",
    "  </tr>\n",
    "  <tr>\n",
    "    <td class=\"tg-0pky\">purpose</td>\n",
    "    <td class=\"tg-0pky\"></td>\n",
    "  </tr>\n",
    "  <tr>\n",
    "    <td class=\"tg-0pky\">initial_list_status</td>\n",
    "    <td class=\"tg-0pky\"></td>\n",
    "  </tr>\n",
    "  <tr>\n",
    "    <td class=\"tg-0pky\">application_type</td>\n",
    "    <td class=\"tg-0pky\"></td>\n",
    "  </tr>\n",
    "  <tr>\n",
    "    <td class=\"tg-0pky\">sub grade</td>\n",
    "    <td class=\"tg-0pky\">Potentially ordinal but too many values</td>\n",
    "  </tr>\n",
    "  <tr>\n",
    "    <td class=\"tg-0lax\">addr_state</td>\n",
    "    <td class=\"tg-0lax\"></td>\n",
    "  </tr>\n",
    "  <tr>\n",
    "    <td class=\"tg-0pky\">Numerical conversion </td>\n",
    "    <td class=\"tg-0pky\">emp_length</td>\n",
    "    <td class=\"tg-0pky\"></td>\n",
    "  </tr>\n",
    "  <tr>\n",
    "    <td class=\"tg-0pky\"></td>\n",
    "    <td class=\"tg-0pky\">term</td>\n",
    "    <td class=\"tg-0pky\"></td>\n",
    "  </tr>\n",
    "  <tr>\n",
    "    <td class=\"tg-0pky\">Drop</td>\n",
    "    <td class=\"tg-0pky\">emp title</td>\n",
    "    <td class=\"tg-0pky\">Due to the number of unique values</td>\n",
    "  </tr>\n",
    "  <tr>\n",
    "    <td class=\"tg-0pky\"></td>\n",
    "    <td class=\"tg-0pky\">title</td>\n",
    "    <td class=\"tg-0pky\">Duplicate of Purpose</td>\n",
    "  </tr>\n",
    "  <tr>\n",
    "    <td class=\"tg-0pky\"></td>\n",
    "    <td class=\"tg-0pky\">grade</td>\n",
    "    <td class=\"tg-0pky\">Duplicate information as in subgrade</td>\n",
    "  </tr>\n",
    "  <tr>\n",
    "    <td class=\"tg-0pky\">Date</td>\n",
    "    <td class=\"tg-0pky\">issue_d</td>\n",
    "    <td class=\"tg-0pky\">get month and year</td>\n",
    "  </tr>\n",
    "  <tr>\n",
    "    <td class=\"tg-0pky\"></td>\n",
    "    <td class=\"tg-0pky\">earliest_cr_line</td>\n",
    "    <td class=\"tg-0pky\">get month and year</td>\n",
    "  </tr>\n",
    "</tbody>\n",
    "</table>"
   ]
  },
  {
   "cell_type": "markdown",
   "id": "5923b6ce",
   "metadata": {
    "papermill": {
     "duration": 0.093913,
     "end_time": "2021-11-11T14:20:59.534581",
     "exception": false,
     "start_time": "2021-11-11T14:20:59.440668",
     "status": "completed"
    },
    "tags": []
   },
   "source": [
    "### 2. Correlation Analysis"
   ]
  },
  {
   "cell_type": "code",
   "execution_count": 23,
   "id": "ce16ec31",
   "metadata": {
    "execution": {
     "iopub.execute_input": "2021-11-11T14:20:59.727369Z",
     "iopub.status.busy": "2021-11-11T14:20:59.726685Z",
     "iopub.status.idle": "2021-11-11T14:21:02.004366Z",
     "shell.execute_reply": "2021-11-11T14:21:02.004848Z",
     "shell.execute_reply.started": "2021-11-11T12:53:16.495736Z"
    },
    "papermill": {
     "duration": 2.377504,
     "end_time": "2021-11-11T14:21:02.005007",
     "exception": false,
     "start_time": "2021-11-11T14:20:59.627503",
     "status": "completed"
    },
    "tags": []
   },
   "outputs": [
    {
     "data": {
      "text/plain": [
       "<AxesSubplot:>"
      ]
     },
     "execution_count": 23,
     "metadata": {},
     "output_type": "execute_result"
    },
    {
     "data": {
      "image/png": "[encoded data removed]",
      "text/plain": [
       "<Figure size 1080x504 with 2 Axes>"
      ]
     },
     "metadata": {},
     "output_type": "display_data"
    }
   ],
   "source": [
    "plt.figure(figsize= (15,7))\n",
    "sns.heatmap(df.corr(), vmin=1, vmax=-1, annot=True, cmap=\"Spectral\")"
   ]
  },
  {
   "cell_type": "markdown",
   "id": "c4a50d76",
   "metadata": {
    "papermill": {
     "duration": 0.097721,
     "end_time": "2021-11-11T14:21:02.201956",
     "exception": false,
     "start_time": "2021-11-11T14:21:02.104235",
     "status": "completed"
    },
    "tags": []
   },
   "source": [
    "# Null Analysis & Processing\n",
    "This step can be very time intensive depending on the approach \n",
    "\n",
    "Options are:\n",
    "1. Use regression / classification techniques to find the missing values - ***very time intensive***\n",
    "1. Imputation of null values with mean, median or mode\n",
    "    * Use other features to group, then use impute mean,median, mode by grouping   - ***somewhat time intensive***\n",
    "    \n",
    "            i.e. to impute \"revol_util\", find the mean of \"revol_util\" groupby \"purpose\", then impute values based on grouping\n",
    "            df.groupby(\"purpose\")[\"revol_util\"].mean()             \n",
    "\n",
    "    * apply mean, median, mode across the whole column for imputation - ***least time intensive***\n",
    "    "
   ]
  },
  {
   "cell_type": "markdown",
   "id": "baba6240",
   "metadata": {
    "papermill": {
     "duration": 0.097542,
     "end_time": "2021-11-11T14:21:02.397267",
     "exception": false,
     "start_time": "2021-11-11T14:21:02.299725",
     "status": "completed"
    },
    "tags": []
   },
   "source": [
    "#### To save time we will go with the easiest method, but first lets some quick analysis"
   ]
  },
  {
   "cell_type": "code",
   "execution_count": 24,
   "id": "84a5b41a",
   "metadata": {
    "execution": {
     "iopub.execute_input": "2021-11-11T14:21:02.601289Z",
     "iopub.status.busy": "2021-11-11T14:21:02.600081Z",
     "iopub.status.idle": "2021-11-11T14:21:09.031900Z",
     "shell.execute_reply": "2021-11-11T14:21:09.031381Z",
     "shell.execute_reply.started": "2021-11-11T12:53:18.752497Z"
    },
    "papermill": {
     "duration": 6.536549,
     "end_time": "2021-11-11T14:21:09.032032",
     "exception": false,
     "start_time": "2021-11-11T14:21:02.495483",
     "status": "completed"
    },
    "tags": []
   },
   "outputs": [
    {
     "data": {
      "text/plain": [
       "emp_title               163774\n",
       "emp_length              144020\n",
       "annual_inc                   4\n",
       "title                    22872\n",
       "dti                       1673\n",
       "earliest_cr_line            29\n",
       "open_acc                    29\n",
       "pub_rec                     29\n",
       "revol_util                1764\n",
       "total_acc                   29\n",
       "mort_acc                 50030\n",
       "pub_rec_bankruptcies      1365\n",
       "dtype: int64"
      ]
     },
     "execution_count": 24,
     "metadata": {},
     "output_type": "execute_result"
    }
   ],
   "source": [
    "df.isnull().sum()[df.isnull().sum()>0]"
   ]
  },
  {
   "cell_type": "code",
   "execution_count": 25,
   "id": "8af8196d",
   "metadata": {
    "execution": {
     "iopub.execute_input": "2021-11-11T14:21:09.238468Z",
     "iopub.status.busy": "2021-11-11T14:21:09.237244Z",
     "iopub.status.idle": "2021-11-11T14:22:23.590801Z",
     "shell.execute_reply": "2021-11-11T14:22:23.591332Z",
     "shell.execute_reply.started": "2021-11-11T12:53:25.040626Z"
    },
    "papermill": {
     "duration": 74.459655,
     "end_time": "2021-11-11T14:22:23.591513",
     "exception": false,
     "start_time": "2021-11-11T14:21:09.131858",
     "status": "completed"
    },
    "tags": []
   },
   "outputs": [
    {
     "data": {
      "text/plain": [
       "Text(0.5, 1.0, 'Heatmap of blank values')"
      ]
     },
     "execution_count": 25,
     "metadata": {},
     "output_type": "execute_result"
    },
    {
     "data": {
      "image/png": "[encoded data removed]",
      "text/plain": [
       "<Figure size 720x504 with 1 Axes>"
      ]
     },
     "metadata": {},
     "output_type": "display_data"
    }
   ],
   "source": [
    "plt.figure(figsize = (10,7))\n",
    "sns.heatmap(df.isnull(), cmap = \"viridis\",  cbar=False, yticklabels=False)\n",
    "plt.title(\"Heatmap of blank values\",fontsize =15)"
   ]
  },
  {
   "cell_type": "markdown",
   "id": "957349ad",
   "metadata": {
    "papermill": {
     "duration": 0.101993,
     "end_time": "2021-11-11T14:22:23.794764",
     "exception": false,
     "start_time": "2021-11-11T14:22:23.692771",
     "status": "completed"
    },
    "tags": []
   },
   "source": []
  },
  {
   "cell_type": "code",
   "execution_count": 26,
   "id": "eb353185",
   "metadata": {
    "execution": {
     "iopub.execute_input": "2021-11-11T14:22:24.005718Z",
     "iopub.status.busy": "2021-11-11T14:22:24.005009Z",
     "iopub.status.idle": "2021-11-11T14:22:27.752901Z",
     "shell.execute_reply": "2021-11-11T14:22:27.752370Z",
     "shell.execute_reply.started": "2021-11-11T12:54:39.209338Z"
    },
    "papermill": {
     "duration": 3.856252,
     "end_time": "2021-11-11T14:22:27.753065",
     "exception": false,
     "start_time": "2021-11-11T14:22:23.896813",
     "status": "completed"
    },
    "tags": []
   },
   "outputs": [
    {
     "data": {
      "image/png": "[encoded data removed]",
      "text/plain": [
       "<Figure size 720x504 with 1 Axes>"
      ]
     },
     "metadata": {},
     "output_type": "display_data"
    }
   ],
   "source": [
    "((df.isnull().sum()/len(df))*100).plot(kind = \"bar\", figsize = (10,7))\n",
    "plt.title(\"Percent of null values\",fontsize= 15)\n",
    "plt.show()"
   ]
  },
  {
   "cell_type": "markdown",
   "id": "e76345ff",
   "metadata": {
    "papermill": {
     "duration": 0.102279,
     "end_time": "2021-11-11T14:22:27.958981",
     "exception": false,
     "start_time": "2021-11-11T14:22:27.856702",
     "status": "completed"
    },
    "tags": []
   },
   "source": [
    "# Imputation\n",
    "#### Notes: \n",
    "\n",
    "* Numerical vals  impute with mean \n",
    "* categorical vals imputewith model \n",
    "\n",
    "*** We can ignore title & emp_length as we will drop these features ***"
   ]
  },
  {
   "cell_type": "code",
   "execution_count": 27,
   "id": "1467c365",
   "metadata": {
    "execution": {
     "iopub.execute_input": "2021-11-11T14:22:28.170265Z",
     "iopub.status.busy": "2021-11-11T14:22:28.169607Z",
     "iopub.status.idle": "2021-11-11T14:22:28.174102Z",
     "shell.execute_reply": "2021-11-11T14:22:28.173590Z",
     "shell.execute_reply.started": "2021-11-11T12:54:42.809259Z"
    },
    "papermill": {
     "duration": 0.11047,
     "end_time": "2021-11-11T14:22:28.174269",
     "exception": false,
     "start_time": "2021-11-11T14:22:28.063799",
     "status": "completed"
    },
    "tags": []
   },
   "outputs": [],
   "source": [
    "imputer_mean = SimpleImputer() #mean imputation\n",
    "imputer_mode = SimpleImputer(strategy=\"most_frequent\")"
   ]
  },
  {
   "cell_type": "markdown",
   "id": "c6e09373",
   "metadata": {
    "execution": {
     "iopub.execute_input": "2021-10-29T07:56:23.097808Z",
     "iopub.status.busy": "2021-10-29T07:56:23.097429Z",
     "iopub.status.idle": "2021-10-29T07:56:23.127907Z",
     "shell.execute_reply": "2021-10-29T07:56:23.126698Z",
     "shell.execute_reply.started": "2021-10-29T07:56:23.097769Z"
    },
    "papermill": {
     "duration": 0.102804,
     "end_time": "2021-11-11T14:22:28.380348",
     "exception": false,
     "start_time": "2021-11-11T14:22:28.277544",
     "status": "completed"
    },
    "tags": []
   },
   "source": [
    "## mean \n",
    "* annual_inc\n",
    "* dti\n",
    "* open_acc\n",
    "* pub_rec\n",
    "* revol_util\n",
    "* total_acc\n",
    "* mort_acc\n",
    "* pub_rec_bankruptcies\n",
    "## mode\n",
    "* emp_title\n",
    "* \"earliest_cr_line\"    ---Date"
   ]
  },
  {
   "cell_type": "code",
   "execution_count": 28,
   "id": "d745ac3b",
   "metadata": {
    "execution": {
     "iopub.execute_input": "2021-11-11T14:22:28.607107Z",
     "iopub.status.busy": "2021-11-11T14:22:28.606379Z",
     "iopub.status.idle": "2021-11-11T14:22:29.135882Z",
     "shell.execute_reply": "2021-11-11T14:22:29.135169Z",
     "shell.execute_reply.started": "2021-11-11T12:54:42.815333Z"
    },
    "papermill": {
     "duration": 0.652548,
     "end_time": "2021-11-11T14:22:29.136056",
     "exception": false,
     "start_time": "2021-11-11T14:22:28.483508",
     "status": "completed"
    },
    "tags": []
   },
   "outputs": [],
   "source": [
    "## Reset index for concat \n",
    "df = df.reset_index(drop = True)"
   ]
  },
  {
   "cell_type": "code",
   "execution_count": 29,
   "id": "2e8a75bd",
   "metadata": {
    "execution": {
     "iopub.execute_input": "2021-11-11T14:22:29.346012Z",
     "iopub.status.busy": "2021-11-11T14:22:29.345365Z",
     "iopub.status.idle": "2021-11-11T14:22:29.349571Z",
     "shell.execute_reply": "2021-11-11T14:22:29.350061Z",
     "shell.execute_reply.started": "2021-11-11T12:54:43.349089Z"
    },
    "papermill": {
     "duration": 0.110918,
     "end_time": "2021-11-11T14:22:29.350261",
     "exception": false,
     "start_time": "2021-11-11T14:22:29.239343",
     "status": "completed"
    },
    "tags": []
   },
   "outputs": [],
   "source": [
    "mode_impute = [\"emp_title\",\"earliest_cr_line\"]\n",
    "mean_impute = [\"annual_inc\",\"dti\",\"open_acc\",\"pub_rec\",\"revol_util\",\"total_acc\",\"mort_acc\",\"pub_rec_bankruptcies\"]"
   ]
  },
  {
   "cell_type": "code",
   "execution_count": 30,
   "id": "978c1cca",
   "metadata": {
    "execution": {
     "iopub.execute_input": "2021-11-11T14:22:29.616324Z",
     "iopub.status.busy": "2021-11-11T14:22:29.613996Z",
     "iopub.status.idle": "2021-11-11T14:22:29.990654Z",
     "shell.execute_reply": "2021-11-11T14:22:29.990039Z",
     "shell.execute_reply.started": "2021-11-11T12:54:43.354926Z"
    },
    "papermill": {
     "duration": 0.536931,
     "end_time": "2021-11-11T14:22:29.990831",
     "exception": false,
     "start_time": "2021-11-11T14:22:29.453900",
     "status": "completed"
    },
    "tags": []
   },
   "outputs": [],
   "source": [
    "mean_df = pd.DataFrame(data = imputer_mean.fit_transform(df[mean_impute]), columns = mean_impute)"
   ]
  },
  {
   "cell_type": "code",
   "execution_count": 31,
   "id": "10c1adf2",
   "metadata": {
    "execution": {
     "iopub.execute_input": "2021-11-11T14:22:30.230366Z",
     "iopub.status.busy": "2021-11-11T14:22:30.229646Z",
     "iopub.status.idle": "2021-11-11T14:22:30.547492Z",
     "shell.execute_reply": "2021-11-11T14:22:30.546912Z",
     "shell.execute_reply.started": "2021-11-11T12:54:43.772719Z"
    },
    "papermill": {
     "duration": 0.452264,
     "end_time": "2021-11-11T14:22:30.547635",
     "exception": false,
     "start_time": "2021-11-11T14:22:30.095371",
     "status": "completed"
    },
    "tags": []
   },
   "outputs": [],
   "source": [
    "df.drop(mean_impute,axis = 1,inplace =True)"
   ]
  },
  {
   "cell_type": "code",
   "execution_count": 32,
   "id": "4b4535e5",
   "metadata": {
    "execution": {
     "iopub.execute_input": "2021-11-11T14:22:30.839846Z",
     "iopub.status.busy": "2021-11-11T14:22:30.758921Z",
     "iopub.status.idle": "2021-11-11T14:22:31.462415Z",
     "shell.execute_reply": "2021-11-11T14:22:31.461810Z",
     "shell.execute_reply.started": "2021-11-11T12:54:44.136865Z"
    },
    "papermill": {
     "duration": 0.812024,
     "end_time": "2021-11-11T14:22:31.462561",
     "exception": false,
     "start_time": "2021-11-11T14:22:30.650537",
     "status": "completed"
    },
    "tags": []
   },
   "outputs": [],
   "source": [
    "df = pd.concat([df,mean_df],axis =1)"
   ]
  },
  {
   "cell_type": "code",
   "execution_count": 33,
   "id": "a62e0653",
   "metadata": {
    "execution": {
     "iopub.execute_input": "2021-11-11T14:22:31.699687Z",
     "iopub.status.busy": "2021-11-11T14:22:31.699049Z",
     "iopub.status.idle": "2021-11-11T14:22:31.704218Z",
     "shell.execute_reply": "2021-11-11T14:22:31.703603Z",
     "shell.execute_reply.started": "2021-11-11T12:54:44.831956Z"
    },
    "papermill": {
     "duration": 0.138794,
     "end_time": "2021-11-11T14:22:31.704369",
     "exception": false,
     "start_time": "2021-11-11T14:22:31.565575",
     "status": "completed"
    },
    "tags": []
   },
   "outputs": [
    {
     "data": {
      "text/html": [
       "<div>\n",
       "<style scoped>\n",
       "    .dataframe tbody tr th:only-of-type {\n",
       "        vertical-align: middle;\n",
       "    }\n",
       "\n",
       "    .dataframe tbody tr th {\n",
       "        vertical-align: top;\n",
       "    }\n",
       "\n",
       "    .dataframe thead th {\n",
       "        text-align: right;\n",
       "    }\n",
       "</style>\n",
       "<table border=\"1\" class=\"dataframe\">\n",
       "  <thead>\n",
       "    <tr style=\"text-align: right;\">\n",
       "      <th></th>\n",
       "      <th>loan_amnt</th>\n",
       "      <th>term</th>\n",
       "      <th>int_rate</th>\n",
       "      <th>installment</th>\n",
       "      <th>grade</th>\n",
       "      <th>sub_grade</th>\n",
       "      <th>emp_title</th>\n",
       "      <th>emp_length</th>\n",
       "      <th>home_ownership</th>\n",
       "      <th>verification_status</th>\n",
       "      <th>...</th>\n",
       "      <th>initial_list_status</th>\n",
       "      <th>application_type</th>\n",
       "      <th>annual_inc</th>\n",
       "      <th>dti</th>\n",
       "      <th>open_acc</th>\n",
       "      <th>pub_rec</th>\n",
       "      <th>revol_util</th>\n",
       "      <th>total_acc</th>\n",
       "      <th>mort_acc</th>\n",
       "      <th>pub_rec_bankruptcies</th>\n",
       "    </tr>\n",
       "  </thead>\n",
       "  <tbody>\n",
       "    <tr>\n",
       "      <th>0</th>\n",
       "      <td>3600.0</td>\n",
       "      <td>36 months</td>\n",
       "      <td>13.99</td>\n",
       "      <td>123.03</td>\n",
       "      <td>C</td>\n",
       "      <td>C4</td>\n",
       "      <td>leadman</td>\n",
       "      <td>10+ years</td>\n",
       "      <td>MORTGAGE</td>\n",
       "      <td>Not Verified</td>\n",
       "      <td>...</td>\n",
       "      <td>w</td>\n",
       "      <td>Individual</td>\n",
       "      <td>55000.0</td>\n",
       "      <td>5.91</td>\n",
       "      <td>7.0</td>\n",
       "      <td>0.0</td>\n",
       "      <td>29.7</td>\n",
       "      <td>13.0</td>\n",
       "      <td>1.0</td>\n",
       "      <td>0.0</td>\n",
       "    </tr>\n",
       "    <tr>\n",
       "      <th>1</th>\n",
       "      <td>24700.0</td>\n",
       "      <td>36 months</td>\n",
       "      <td>11.99</td>\n",
       "      <td>820.28</td>\n",
       "      <td>C</td>\n",
       "      <td>C1</td>\n",
       "      <td>Engineer</td>\n",
       "      <td>10+ years</td>\n",
       "      <td>MORTGAGE</td>\n",
       "      <td>Not Verified</td>\n",
       "      <td>...</td>\n",
       "      <td>w</td>\n",
       "      <td>Individual</td>\n",
       "      <td>65000.0</td>\n",
       "      <td>16.06</td>\n",
       "      <td>22.0</td>\n",
       "      <td>0.0</td>\n",
       "      <td>19.2</td>\n",
       "      <td>38.0</td>\n",
       "      <td>4.0</td>\n",
       "      <td>0.0</td>\n",
       "    </tr>\n",
       "    <tr>\n",
       "      <th>2</th>\n",
       "      <td>20000.0</td>\n",
       "      <td>60 months</td>\n",
       "      <td>10.78</td>\n",
       "      <td>432.66</td>\n",
       "      <td>B</td>\n",
       "      <td>B4</td>\n",
       "      <td>truck driver</td>\n",
       "      <td>10+ years</td>\n",
       "      <td>MORTGAGE</td>\n",
       "      <td>Not Verified</td>\n",
       "      <td>...</td>\n",
       "      <td>w</td>\n",
       "      <td>Joint App</td>\n",
       "      <td>63000.0</td>\n",
       "      <td>10.78</td>\n",
       "      <td>6.0</td>\n",
       "      <td>0.0</td>\n",
       "      <td>56.2</td>\n",
       "      <td>18.0</td>\n",
       "      <td>5.0</td>\n",
       "      <td>0.0</td>\n",
       "    </tr>\n",
       "    <tr>\n",
       "      <th>3</th>\n",
       "      <td>35000.0</td>\n",
       "      <td>60 months</td>\n",
       "      <td>14.85</td>\n",
       "      <td>829.90</td>\n",
       "      <td>C</td>\n",
       "      <td>C5</td>\n",
       "      <td>Information Systems Officer</td>\n",
       "      <td>10+ years</td>\n",
       "      <td>MORTGAGE</td>\n",
       "      <td>Source Verified</td>\n",
       "      <td>...</td>\n",
       "      <td>w</td>\n",
       "      <td>Individual</td>\n",
       "      <td>110000.0</td>\n",
       "      <td>17.06</td>\n",
       "      <td>13.0</td>\n",
       "      <td>0.0</td>\n",
       "      <td>11.6</td>\n",
       "      <td>17.0</td>\n",
       "      <td>1.0</td>\n",
       "      <td>0.0</td>\n",
       "    </tr>\n",
       "    <tr>\n",
       "      <th>4</th>\n",
       "      <td>10400.0</td>\n",
       "      <td>60 months</td>\n",
       "      <td>22.45</td>\n",
       "      <td>289.91</td>\n",
       "      <td>F</td>\n",
       "      <td>F1</td>\n",
       "      <td>Contract Specialist</td>\n",
       "      <td>3 years</td>\n",
       "      <td>MORTGAGE</td>\n",
       "      <td>Source Verified</td>\n",
       "      <td>...</td>\n",
       "      <td>w</td>\n",
       "      <td>Individual</td>\n",
       "      <td>104433.0</td>\n",
       "      <td>25.37</td>\n",
       "      <td>12.0</td>\n",
       "      <td>0.0</td>\n",
       "      <td>64.5</td>\n",
       "      <td>35.0</td>\n",
       "      <td>6.0</td>\n",
       "      <td>0.0</td>\n",
       "    </tr>\n",
       "  </tbody>\n",
       "</table>\n",
       "<p>5 rows × 27 columns</p>\n",
       "</div>"
      ],
      "text/plain": [
       "   loan_amnt        term  int_rate  installment grade sub_grade  \\\n",
       "0     3600.0   36 months     13.99       123.03     C        C4   \n",
       "1    24700.0   36 months     11.99       820.28     C        C1   \n",
       "2    20000.0   60 months     10.78       432.66     B        B4   \n",
       "3    35000.0   60 months     14.85       829.90     C        C5   \n",
       "4    10400.0   60 months     22.45       289.91     F        F1   \n",
       "\n",
       "                     emp_title emp_length home_ownership verification_status  \\\n",
       "0                      leadman  10+ years       MORTGAGE        Not Verified   \n",
       "1                     Engineer  10+ years       MORTGAGE        Not Verified   \n",
       "2                 truck driver  10+ years       MORTGAGE        Not Verified   \n",
       "3  Information Systems Officer  10+ years       MORTGAGE     Source Verified   \n",
       "4          Contract Specialist    3 years       MORTGAGE     Source Verified   \n",
       "\n",
       "   ... initial_list_status application_type annual_inc    dti open_acc  \\\n",
       "0  ...                   w       Individual    55000.0   5.91      7.0   \n",
       "1  ...                   w       Individual    65000.0  16.06     22.0   \n",
       "2  ...                   w        Joint App    63000.0  10.78      6.0   \n",
       "3  ...                   w       Individual   110000.0  17.06     13.0   \n",
       "4  ...                   w       Individual   104433.0  25.37     12.0   \n",
       "\n",
       "  pub_rec  revol_util total_acc mort_acc  pub_rec_bankruptcies  \n",
       "0     0.0        29.7      13.0      1.0                   0.0  \n",
       "1     0.0        19.2      38.0      4.0                   0.0  \n",
       "2     0.0        56.2      18.0      5.0                   0.0  \n",
       "3     0.0        11.6      17.0      1.0                   0.0  \n",
       "4     0.0        64.5      35.0      6.0                   0.0  \n",
       "\n",
       "[5 rows x 27 columns]"
      ]
     },
     "execution_count": 33,
     "metadata": {},
     "output_type": "execute_result"
    }
   ],
   "source": [
    "df.head()"
   ]
  },
  {
   "cell_type": "code",
   "execution_count": 34,
   "id": "f34f19d7",
   "metadata": {
    "execution": {
     "iopub.execute_input": "2021-11-11T14:22:31.922658Z",
     "iopub.status.busy": "2021-11-11T14:22:31.921930Z",
     "iopub.status.idle": "2021-11-11T14:22:32.562769Z",
     "shell.execute_reply": "2021-11-11T14:22:32.562041Z",
     "shell.execute_reply.started": "2021-11-11T12:54:44.863332Z"
    },
    "papermill": {
     "duration": 0.75233,
     "end_time": "2021-11-11T14:22:32.562923",
     "exception": false,
     "start_time": "2021-11-11T14:22:31.810593",
     "status": "completed"
    },
    "tags": []
   },
   "outputs": [],
   "source": [
    "df[\"emp_length\"].fillna(df[\"emp_length\"].mode()[0], inplace = True)\n",
    "df[\"earliest_cr_line\"].fillna(df[\"earliest_cr_line\"].mode()[0],inplace = True)"
   ]
  },
  {
   "cell_type": "code",
   "execution_count": 35,
   "id": "49d9b9d5",
   "metadata": {
    "execution": {
     "iopub.execute_input": "2021-11-11T14:22:32.772365Z",
     "iopub.status.busy": "2021-11-11T14:22:32.771660Z",
     "iopub.status.idle": "2021-11-11T14:22:36.017366Z",
     "shell.execute_reply": "2021-11-11T14:22:36.016822Z",
     "shell.execute_reply.started": "2021-11-11T12:54:45.502869Z"
    },
    "papermill": {
     "duration": 3.351857,
     "end_time": "2021-11-11T14:22:36.017514",
     "exception": false,
     "start_time": "2021-11-11T14:22:32.665657",
     "status": "completed"
    },
    "tags": []
   },
   "outputs": [
    {
     "data": {
      "text/plain": [
       "loan_amnt                    0\n",
       "term                         0\n",
       "int_rate                     0\n",
       "installment                  0\n",
       "grade                        0\n",
       "sub_grade                    0\n",
       "emp_title               163774\n",
       "emp_length                   0\n",
       "home_ownership               0\n",
       "verification_status          0\n",
       "issue_d                      0\n",
       "loan_status                  0\n",
       "purpose                      0\n",
       "title                    22872\n",
       "addr_state                   0\n",
       "earliest_cr_line             0\n",
       "revol_bal                    0\n",
       "initial_list_status          0\n",
       "application_type             0\n",
       "annual_inc                   0\n",
       "dti                          0\n",
       "open_acc                     0\n",
       "pub_rec                      0\n",
       "revol_util                   0\n",
       "total_acc                    0\n",
       "mort_acc                     0\n",
       "pub_rec_bankruptcies         0\n",
       "dtype: int64"
      ]
     },
     "execution_count": 35,
     "metadata": {},
     "output_type": "execute_result"
    }
   ],
   "source": [
    "df.isnull().sum()"
   ]
  },
  {
   "cell_type": "markdown",
   "id": "ea6ae586",
   "metadata": {
    "papermill": {
     "duration": 0.103471,
     "end_time": "2021-11-11T14:22:36.225367",
     "exception": false,
     "start_time": "2021-11-11T14:22:36.121896",
     "status": "completed"
    },
    "tags": []
   },
   "source": [
    "## Drop \n",
    "* emp_title\n",
    "* title\n",
    "* grade"
   ]
  },
  {
   "cell_type": "code",
   "execution_count": 36,
   "id": "8f8afe19",
   "metadata": {
    "execution": {
     "iopub.execute_input": "2021-11-11T14:22:36.436454Z",
     "iopub.status.busy": "2021-11-11T14:22:36.435756Z",
     "iopub.status.idle": "2021-11-11T14:22:38.376855Z",
     "shell.execute_reply": "2021-11-11T14:22:38.376270Z",
     "shell.execute_reply.started": "2021-11-11T12:54:48.667195Z"
    },
    "papermill": {
     "duration": 2.047804,
     "end_time": "2021-11-11T14:22:38.377014",
     "exception": false,
     "start_time": "2021-11-11T14:22:36.329210",
     "status": "completed"
    },
    "tags": []
   },
   "outputs": [],
   "source": [
    "# too many unique values \n",
    "df.drop(\"emp_title\",axis =1, inplace = True)\n",
    "\n",
    "# title is the same as \"purpose\" we can therefore drop this column\n",
    "df.drop(\"title\",axis =1, inplace = True)\n",
    "\n",
    "## grade holds the same information as subgrade\n",
    "df.drop(\"grade\",axis =1, inplace = True)"
   ]
  },
  {
   "cell_type": "markdown",
   "id": "f8ae7db5",
   "metadata": {
    "papermill": {
     "duration": 0.107071,
     "end_time": "2021-11-11T14:22:38.590569",
     "exception": false,
     "start_time": "2021-11-11T14:22:38.483498",
     "status": "completed"
    },
    "tags": []
   },
   "source": [
    "# Feature Engineering \n",
    "as per above "
   ]
  },
  {
   "cell_type": "markdown",
   "id": "9da53880",
   "metadata": {
    "execution": {
     "iopub.execute_input": "2021-11-05T04:21:49.119374Z",
     "iopub.status.busy": "2021-11-05T04:21:49.118513Z",
     "iopub.status.idle": "2021-11-05T04:21:49.14461Z",
     "shell.execute_reply": "2021-11-05T04:21:49.143646Z",
     "shell.execute_reply.started": "2021-11-05T04:21:49.119329Z"
    },
    "papermill": {
     "duration": 0.103109,
     "end_time": "2021-11-11T14:22:38.796804",
     "exception": false,
     "start_time": "2021-11-11T14:22:38.693695",
     "status": "completed"
    },
    "tags": []
   },
   "source": [
    "<style type=\"text/css\">\n",
    ".tg  {border-collapse:collapse;border-spacing:0;}\n",
    ".tg td{border-color:black;border-style:solid;border-width:1px;font-family:Arial, sans-serif;font-size:14px;\n",
    "  overflow:hidden;padding:10px 5px;word-break:normal;}\n",
    ".tg th{border-color:black;border-style:solid;border-width:1px;font-family:Arial, sans-serif;font-size:14px;\n",
    "  font-weight:normal;overflow:hidden;padding:10px 5px;word-break:normal;}\n",
    ".tg .tg-fymr{border-color:inherit;font-weight:bold;text-align:left;vertical-align:top}\n",
    ".tg .tg-0pky{border-color:inherit;text-align:left;vertical-align:top}\n",
    ".tg .tg-0lax{text-align:left;vertical-align:top}\n",
    "</style>\n",
    "<table class=\"tg\">\n",
    "<thead>\n",
    "  <tr>\n",
    "    <th class=\"tg-fymr\">Change</th>\n",
    "    <th class=\"tg-fymr\">Column</th>\n",
    "    <th class=\"tg-fymr\">Comment</th>\n",
    "  </tr>\n",
    "</thead>\n",
    "<tbody>\n",
    "  <tr>\n",
    "    <td class=\"tg-0pky\" rowspan=\"7\">Dummies<br><br></td>\n",
    "    <td class=\"tg-0pky\">home_ownership</td>\n",
    "    <td class=\"tg-0pky\"></td>\n",
    "  </tr>\n",
    "  <tr>\n",
    "    <td class=\"tg-0pky\">verification_status</td>\n",
    "    <td class=\"tg-0pky\"></td>\n",
    "  </tr>\n",
    "  <tr>\n",
    "    <td class=\"tg-0pky\">purpose</td>\n",
    "    <td class=\"tg-0pky\"></td>\n",
    "  </tr>\n",
    "  <tr>\n",
    "    <td class=\"tg-0pky\">initial_list_status</td>\n",
    "    <td class=\"tg-0pky\"></td>\n",
    "  </tr>\n",
    "  <tr>\n",
    "    <td class=\"tg-0pky\">application_type</td>\n",
    "    <td class=\"tg-0pky\"></td>\n",
    "  </tr>\n",
    "  <tr>\n",
    "    <td class=\"tg-0pky\">sub grade</td>\n",
    "    <td class=\"tg-0pky\">Potentially ordinal but too many values</td>\n",
    "  </tr>\n",
    "  <tr>\n",
    "    <td class=\"tg-0lax\">addr_state</td>\n",
    "    <td class=\"tg-0lax\"></td>\n",
    "  </tr>\n",
    "  <tr>\n",
    "    <td class=\"tg-0pky\">Numerical conversion </td>\n",
    "    <td class=\"tg-0pky\">emp_length</td>\n",
    "    <td class=\"tg-0pky\"></td>\n",
    "  </tr>\n",
    "  <tr>\n",
    "    <td class=\"tg-0pky\"></td>\n",
    "    <td class=\"tg-0pky\">term</td>\n",
    "    <td class=\"tg-0pky\"></td>\n",
    "  </tr>\n",
    "  <tr>\n",
    "    <td class=\"tg-0pky\">Drop</td>\n",
    "    <td class=\"tg-0pky\">emp title</td>\n",
    "    <td class=\"tg-0pky\">Due to the number of unique values</td>\n",
    "  </tr>\n",
    "  <tr>\n",
    "    <td class=\"tg-0pky\"></td>\n",
    "    <td class=\"tg-0pky\">title</td>\n",
    "    <td class=\"tg-0pky\">Duplicate of Purpose</td>\n",
    "  </tr>\n",
    "  <tr>\n",
    "    <td class=\"tg-0pky\"></td>\n",
    "    <td class=\"tg-0pky\">grade</td>\n",
    "    <td class=\"tg-0pky\">Duplicate information as in subgrade</td>\n",
    "  </tr>\n",
    "  <tr>\n",
    "    <td class=\"tg-0pky\">Date</td>\n",
    "    <td class=\"tg-0pky\">issue_d</td>\n",
    "    <td class=\"tg-0pky\">get month and year</td>\n",
    "  </tr>\n",
    "  <tr>\n",
    "    <td class=\"tg-0pky\"></td>\n",
    "    <td class=\"tg-0pky\">earliest_cr_line</td>\n",
    "    <td class=\"tg-0pky\">get month and year</td>\n",
    "  </tr>\n",
    "</tbody>\n",
    "</table>"
   ]
  },
  {
   "cell_type": "markdown",
   "id": "21c48c96",
   "metadata": {
    "papermill": {
     "duration": 0.102669,
     "end_time": "2021-11-11T14:22:39.003656",
     "exception": false,
     "start_time": "2021-11-11T14:22:38.900987",
     "status": "completed"
    },
    "tags": []
   },
   "source": [
    "## Convert to numerical\n"
   ]
  },
  {
   "cell_type": "code",
   "execution_count": 37,
   "id": "5d451ac1",
   "metadata": {
    "execution": {
     "iopub.execute_input": "2021-11-11T14:22:39.217422Z",
     "iopub.status.busy": "2021-11-11T14:22:39.216077Z",
     "iopub.status.idle": "2021-11-11T14:22:40.568906Z",
     "shell.execute_reply": "2021-11-11T14:22:40.568313Z",
     "shell.execute_reply.started": "2021-11-11T12:54:50.669311Z"
    },
    "papermill": {
     "duration": 1.462081,
     "end_time": "2021-11-11T14:22:40.569065",
     "exception": false,
     "start_time": "2021-11-11T14:22:39.106984",
     "status": "completed"
    },
    "tags": []
   },
   "outputs": [
    {
     "name": "stdout",
     "output_type": "stream",
     "text": [
      "36    1589901\n",
      "60     636515\n",
      "Name: term, dtype: int64\n"
     ]
    }
   ],
   "source": [
    "df[\"term\"] = df[\"term\"].apply(lambda x : x[:3]).astype(int)\n",
    "print(df[\"term\"].value_counts())"
   ]
  },
  {
   "cell_type": "code",
   "execution_count": 38,
   "id": "3f39a48e",
   "metadata": {
    "execution": {
     "iopub.execute_input": "2021-11-11T14:22:40.787533Z",
     "iopub.status.busy": "2021-11-11T14:22:40.786503Z",
     "iopub.status.idle": "2021-11-11T14:22:41.148543Z",
     "shell.execute_reply": "2021-11-11T14:22:41.148994Z",
     "shell.execute_reply.started": "2021-11-11T12:54:52.030911Z"
    },
    "papermill": {
     "duration": 0.470086,
     "end_time": "2021-11-11T14:22:41.149204",
     "exception": false,
     "start_time": "2021-11-11T14:22:40.679118",
     "status": "completed"
    },
    "tags": []
   },
   "outputs": [
    {
     "data": {
      "text/plain": [
       "10+ years    881423\n",
       "2 years      200531\n",
       "< 1 year     186757\n",
       "3 years      177937\n",
       "1 year       146116\n",
       "5 years      137572\n",
       "4 years      134393\n",
       "6 years      101130\n",
       "7 years       91492\n",
       "8 years       90682\n",
       "9 years       78383\n",
       "Name: emp_length, dtype: int64"
      ]
     },
     "execution_count": 38,
     "metadata": {},
     "output_type": "execute_result"
    }
   ],
   "source": [
    "df[\"emp_length\"].value_counts()"
   ]
  },
  {
   "cell_type": "code",
   "execution_count": 39,
   "id": "6771f776",
   "metadata": {
    "execution": {
     "iopub.execute_input": "2021-11-11T14:22:41.361717Z",
     "iopub.status.busy": "2021-11-11T14:22:41.360934Z",
     "iopub.status.idle": "2021-11-11T14:22:41.715478Z",
     "shell.execute_reply": "2021-11-11T14:22:41.716067Z",
     "shell.execute_reply.started": "2021-11-11T12:54:52.394219Z"
    },
    "papermill": {
     "duration": 0.462764,
     "end_time": "2021-11-11T14:22:41.716261",
     "exception": false,
     "start_time": "2021-11-11T14:22:41.253497",
     "status": "completed"
    },
    "tags": []
   },
   "outputs": [],
   "source": [
    "replace_dictionary = {\"< 1 year\":\"1 years\" }\n",
    "df[\"emp_length\"].replace(replace_dictionary,inplace=True)"
   ]
  },
  {
   "cell_type": "code",
   "execution_count": 40,
   "id": "0d1062c0",
   "metadata": {
    "execution": {
     "iopub.execute_input": "2021-11-11T14:22:41.934297Z",
     "iopub.status.busy": "2021-11-11T14:22:41.933544Z",
     "iopub.status.idle": "2021-11-11T14:22:43.239783Z",
     "shell.execute_reply": "2021-11-11T14:22:43.239119Z",
     "shell.execute_reply.started": "2021-11-11T12:54:52.759615Z"
    },
    "papermill": {
     "duration": 1.418027,
     "end_time": "2021-11-11T14:22:43.239936",
     "exception": false,
     "start_time": "2021-11-11T14:22:41.821909",
     "status": "completed"
    },
    "tags": []
   },
   "outputs": [],
   "source": [
    "df[\"emp_length\"] =df[\"emp_length\"].apply(lambda x: x[:2]).astype(int)"
   ]
  },
  {
   "cell_type": "markdown",
   "id": "46ca4117",
   "metadata": {
    "execution": {
     "iopub.execute_input": "2021-11-05T04:14:00.245699Z",
     "iopub.status.busy": "2021-11-05T04:14:00.245494Z",
     "iopub.status.idle": "2021-11-05T04:14:00.667081Z",
     "shell.execute_reply": "2021-11-05T04:14:00.666412Z",
     "shell.execute_reply.started": "2021-11-05T04:14:00.245673Z"
    },
    "papermill": {
     "duration": 0.103608,
     "end_time": "2021-11-11T14:22:43.448987",
     "exception": false,
     "start_time": "2021-11-11T14:22:43.345379",
     "status": "completed"
    },
    "tags": []
   },
   "source": [
    "## Dummies\n",
    "Convert all categorical (non-ordinal) features into dummy columns including the target column "
   ]
  },
  {
   "cell_type": "code",
   "execution_count": 41,
   "id": "75e07bfe",
   "metadata": {
    "execution": {
     "iopub.execute_input": "2021-11-11T14:22:43.661531Z",
     "iopub.status.busy": "2021-11-11T14:22:43.660871Z",
     "iopub.status.idle": "2021-11-11T14:22:44.030778Z",
     "shell.execute_reply": "2021-11-11T14:22:44.030221Z",
     "shell.execute_reply.started": "2021-11-11T12:54:54.073577Z"
    },
    "papermill": {
     "duration": 0.477338,
     "end_time": "2021-11-11T14:22:44.030936",
     "exception": false,
     "start_time": "2021-11-11T14:22:43.553598",
     "status": "completed"
    },
    "tags": []
   },
   "outputs": [],
   "source": [
    "## Target to dummies \n",
    "df[\"loan_status\"] = df[\"loan_status\"].map({\"Paid\":0,\"Default\":1})"
   ]
  },
  {
   "cell_type": "code",
   "execution_count": 42,
   "id": "e5093557",
   "metadata": {
    "execution": {
     "iopub.execute_input": "2021-11-11T14:22:44.244555Z",
     "iopub.status.busy": "2021-11-11T14:22:44.243893Z",
     "iopub.status.idle": "2021-11-11T14:22:44.609197Z",
     "shell.execute_reply": "2021-11-11T14:22:44.609851Z",
     "shell.execute_reply.started": "2021-11-11T12:54:54.447095Z"
    },
    "papermill": {
     "duration": 0.473295,
     "end_time": "2021-11-11T14:22:44.610038",
     "exception": false,
     "start_time": "2021-11-11T14:22:44.136743",
     "status": "completed"
    },
    "tags": []
   },
   "outputs": [
    {
     "data": {
      "text/plain": [
       "MORTGAGE    1096160\n",
       "RENT         880180\n",
       "OWN          248869\n",
       "ANY             971\n",
       "OTHER           182\n",
       "NONE             54\n",
       "Name: home_ownership, dtype: int64"
      ]
     },
     "execution_count": 42,
     "metadata": {},
     "output_type": "execute_result"
    }
   ],
   "source": [
    "df[\"home_ownership\"].value_counts()"
   ]
  },
  {
   "cell_type": "code",
   "execution_count": 43,
   "id": "9a08a7a9",
   "metadata": {
    "execution": {
     "iopub.execute_input": "2021-11-11T14:22:44.823126Z",
     "iopub.status.busy": "2021-11-11T14:22:44.822509Z",
     "iopub.status.idle": "2021-11-11T14:22:45.333807Z",
     "shell.execute_reply": "2021-11-11T14:22:45.334375Z",
     "shell.execute_reply.started": "2021-11-11T12:54:54.81514Z"
    },
    "papermill": {
     "duration": 0.619314,
     "end_time": "2021-11-11T14:22:45.334556",
     "exception": false,
     "start_time": "2021-11-11T14:22:44.715242",
     "status": "completed"
    },
    "tags": []
   },
   "outputs": [],
   "source": [
    "# lets group None and Any --> Other\n",
    "df[\"home_ownership\"]= df[\"home_ownership\"].replace([\"ANY\",\"NONE\"], \"OTHER\")"
   ]
  },
  {
   "cell_type": "code",
   "execution_count": 44,
   "id": "6b168aa1",
   "metadata": {
    "execution": {
     "iopub.execute_input": "2021-11-11T14:22:45.551082Z",
     "iopub.status.busy": "2021-11-11T14:22:45.550434Z",
     "iopub.status.idle": "2021-11-11T14:22:45.554421Z",
     "shell.execute_reply": "2021-11-11T14:22:45.554985Z",
     "shell.execute_reply.started": "2021-11-11T12:54:55.354191Z"
    },
    "papermill": {
     "duration": 0.112745,
     "end_time": "2021-11-11T14:22:45.555179",
     "exception": false,
     "start_time": "2021-11-11T14:22:45.442434",
     "status": "completed"
    },
    "tags": []
   },
   "outputs": [],
   "source": [
    "dummy_cols = [ \"home_ownership\", \"verification_status\", \"purpose\",\"initial_list_status\", \"application_type\",\"sub_grade\", \"addr_state\"]\n"
   ]
  },
  {
   "cell_type": "code",
   "execution_count": 45,
   "id": "61adb3ec",
   "metadata": {
    "execution": {
     "iopub.execute_input": "2021-11-11T14:22:45.769839Z",
     "iopub.status.busy": "2021-11-11T14:22:45.766803Z",
     "iopub.status.idle": "2021-11-11T14:22:48.159207Z",
     "shell.execute_reply": "2021-11-11T14:22:48.158537Z",
     "shell.execute_reply.started": "2021-11-11T12:54:55.359336Z"
    },
    "papermill": {
     "duration": 2.499816,
     "end_time": "2021-11-11T14:22:48.159367",
     "exception": false,
     "start_time": "2021-11-11T14:22:45.659551",
     "status": "completed"
    },
    "tags": []
   },
   "outputs": [],
   "source": [
    "#get dummy columns\n",
    "df_dummies = pd.get_dummies(df[dummy_cols], drop_first=True)\n",
    "\n",
    "#drop from original dataframe\n",
    "df.drop(dummy_cols,axis =1, inplace=True)"
   ]
  },
  {
   "cell_type": "code",
   "execution_count": 46,
   "id": "a1a4cd6b",
   "metadata": {
    "execution": {
     "iopub.execute_input": "2021-11-11T14:22:48.371727Z",
     "iopub.status.busy": "2021-11-11T14:22:48.370744Z",
     "iopub.status.idle": "2021-11-11T14:22:48.572303Z",
     "shell.execute_reply": "2021-11-11T14:22:48.572822Z",
     "shell.execute_reply.started": "2021-11-11T12:54:57.708953Z"
    },
    "papermill": {
     "duration": 0.309311,
     "end_time": "2021-11-11T14:22:48.573006",
     "exception": false,
     "start_time": "2021-11-11T14:22:48.263695",
     "status": "completed"
    },
    "tags": []
   },
   "outputs": [],
   "source": [
    "df= pd.concat([df,df_dummies],axis =1)"
   ]
  },
  {
   "cell_type": "markdown",
   "id": "f6708877",
   "metadata": {
    "papermill": {
     "duration": 0.104517,
     "end_time": "2021-11-11T14:22:48.782521",
     "exception": false,
     "start_time": "2021-11-11T14:22:48.678004",
     "status": "completed"
    },
    "tags": []
   },
   "source": [
    "## Date Processing \n",
    "We can extract the year, month and day values from the two columns \n",
    "* issue_d  ---- date loan was issued \n",
    "* earliest_cr_line --- earliest credit line month\n",
    "\n",
    "### Note:\n",
    "**issue_d** should be dropped as this tells us that the loan was already issued, we want to understand if a loan has defaulted **before** a loan is issued\n",
    "This is therefore data leakage and issue_d should be dropped "
   ]
  },
  {
   "cell_type": "code",
   "execution_count": 47,
   "id": "e4c16bc4",
   "metadata": {
    "execution": {
     "iopub.execute_input": "2021-11-11T14:22:48.997469Z",
     "iopub.status.busy": "2021-11-11T14:22:48.996462Z",
     "iopub.status.idle": "2021-11-11T14:22:49.908770Z",
     "shell.execute_reply": "2021-11-11T14:22:49.909284Z",
     "shell.execute_reply.started": "2021-11-11T12:54:57.914311Z"
    },
    "papermill": {
     "duration": 1.021165,
     "end_time": "2021-11-11T14:22:49.909476",
     "exception": false,
     "start_time": "2021-11-11T14:22:48.888311",
     "status": "completed"
    },
    "tags": []
   },
   "outputs": [],
   "source": [
    "df.drop(\"issue_d\",axis =1, inplace=True)"
   ]
  },
  {
   "cell_type": "code",
   "execution_count": 48,
   "id": "0313c1d4",
   "metadata": {
    "execution": {
     "iopub.execute_input": "2021-11-11T14:22:50.126033Z",
     "iopub.status.busy": "2021-11-11T14:22:50.125074Z",
     "iopub.status.idle": "2021-11-11T14:22:50.151204Z",
     "shell.execute_reply": "2021-11-11T14:22:50.151863Z",
     "shell.execute_reply.started": "2021-11-11T12:54:58.787694Z"
    },
    "papermill": {
     "duration": 0.135551,
     "end_time": "2021-11-11T14:22:50.152052",
     "exception": false,
     "start_time": "2021-11-11T14:22:50.016501",
     "status": "completed"
    },
    "tags": []
   },
   "outputs": [
    {
     "name": "stdout",
     "output_type": "stream",
     "text": [
      "2004-09-01    15184\n",
      "2003-09-01    15004\n",
      "2005-09-01    14494\n",
      "2003-08-01    14432\n",
      "2001-08-01    14175\n",
      "              ...  \n",
      "1952-07-01        1\n",
      "1933-03-01        1\n",
      "1951-08-01        1\n",
      "1957-09-01        1\n",
      "1946-12-01        1\n",
      "Name: earliest_cr_line, Length: 754, dtype: int64\n"
     ]
    }
   ],
   "source": [
    "print(df[\"earliest_cr_line\"].value_counts())"
   ]
  },
  {
   "cell_type": "markdown",
   "id": "8ecdbcf1",
   "metadata": {
    "papermill": {
     "duration": 0.105411,
     "end_time": "2021-11-11T14:22:50.362942",
     "exception": false,
     "start_time": "2021-11-11T14:22:50.257531",
     "status": "completed"
    },
    "tags": []
   },
   "source": [
    "We can ignore the day value as this is only the first"
   ]
  },
  {
   "cell_type": "code",
   "execution_count": 49,
   "id": "7c39767c",
   "metadata": {
    "execution": {
     "iopub.execute_input": "2021-11-11T14:22:50.597112Z",
     "iopub.status.busy": "2021-11-11T14:22:50.596444Z",
     "iopub.status.idle": "2021-11-11T14:22:52.040403Z",
     "shell.execute_reply": "2021-11-11T14:22:52.039800Z",
     "shell.execute_reply.started": "2021-11-11T12:54:58.817396Z"
    },
    "papermill": {
     "duration": 1.572562,
     "end_time": "2021-11-11T14:22:52.040548",
     "exception": false,
     "start_time": "2021-11-11T14:22:50.467986",
     "status": "completed"
    },
    "tags": []
   },
   "outputs": [],
   "source": [
    "# extract year column \n",
    "df[\"year_earliest\"] = pd.to_datetime(df[\"earliest_cr_line\"]).dt.year\n",
    "\n",
    "#extract month column \n",
    "df[\"month_earliest\"] = pd.to_datetime(df[\"earliest_cr_line\"]).dt.month\n",
    "\n",
    "#drop old column as we dont it now\n",
    "df.drop([\"earliest_cr_line\"],axis=1, inplace=True)"
   ]
  },
  {
   "cell_type": "code",
   "execution_count": 50,
   "id": "303ea1d8",
   "metadata": {
    "execution": {
     "iopub.execute_input": "2021-11-11T14:22:52.257829Z",
     "iopub.status.busy": "2021-11-11T14:22:52.256969Z",
     "iopub.status.idle": "2021-11-11T14:22:52.361202Z",
     "shell.execute_reply": "2021-11-11T14:22:52.361726Z",
     "shell.execute_reply.started": "2021-11-11T12:55:00.225882Z"
    },
    "papermill": {
     "duration": 0.214359,
     "end_time": "2021-11-11T14:22:52.361893",
     "exception": false,
     "start_time": "2021-11-11T14:22:52.147534",
     "status": "completed"
    },
    "tags": []
   },
   "outputs": [
    {
     "name": "stdout",
     "output_type": "stream",
     "text": [
      "<class 'pandas.core.frame.DataFrame'>\n",
      "RangeIndex: 2226416 entries, 0 to 2226415\n",
      "Data columns (total 20 columns):\n",
      " #   Column                               Dtype  \n",
      "---  ------                               -----  \n",
      " 0   loan_amnt                            float64\n",
      " 1   term                                 int64  \n",
      " 2   int_rate                             float64\n",
      " 3   installment                          float64\n",
      " 4   emp_length                           int64  \n",
      " 5   loan_status                          int64  \n",
      " 6   revol_bal                            float64\n",
      " 7   annual_inc                           float64\n",
      " 8   dti                                  float64\n",
      " 9   open_acc                             float64\n",
      " 10  pub_rec                              float64\n",
      " 11  revol_util                           float64\n",
      " 12  total_acc                            float64\n",
      " 13  mort_acc                             float64\n",
      " 14  pub_rec_bankruptcies                 float64\n",
      " 15  home_ownership_OTHER                 uint8  \n",
      " 16  home_ownership_OWN                   uint8  \n",
      " 17  home_ownership_RENT                  uint8  \n",
      " 18  verification_status_Source Verified  uint8  \n",
      " 19  verification_status_Verified         uint8  \n",
      "dtypes: float64(12), int64(3), uint8(5)\n",
      "memory usage: 265.4 MB\n"
     ]
    }
   ],
   "source": [
    "df.iloc[:,:20].info()"
   ]
  },
  {
   "cell_type": "markdown",
   "id": "edc9d008",
   "metadata": {
    "execution": {
     "iopub.execute_input": "2021-11-01T07:45:11.128708Z",
     "iopub.status.busy": "2021-11-01T07:45:11.128408Z",
     "iopub.status.idle": "2021-11-01T07:45:11.134387Z",
     "shell.execute_reply": "2021-11-01T07:45:11.132845Z",
     "shell.execute_reply.started": "2021-11-01T07:45:11.12868Z"
    },
    "papermill": {
     "duration": 0.105496,
     "end_time": "2021-11-11T14:22:52.573295",
     "exception": false,
     "start_time": "2021-11-11T14:22:52.467799",
     "status": "completed"
    },
    "tags": []
   },
   "source": [
    "# Split "
   ]
  },
  {
   "cell_type": "code",
   "execution_count": 51,
   "id": "189fe270",
   "metadata": {
    "execution": {
     "iopub.execute_input": "2021-11-11T14:22:52.806703Z",
     "iopub.status.busy": "2021-11-11T14:22:52.806026Z",
     "iopub.status.idle": "2021-11-11T14:22:52.809364Z",
     "shell.execute_reply": "2021-11-11T14:22:52.809816Z",
     "shell.execute_reply.started": "2021-11-11T12:55:00.334224Z"
    },
    "papermill": {
     "duration": 0.127416,
     "end_time": "2021-11-11T14:22:52.809982",
     "exception": false,
     "start_time": "2021-11-11T14:22:52.682566",
     "status": "completed"
    },
    "tags": []
   },
   "outputs": [
    {
     "data": {
      "text/plain": [
       "0    1957056\n",
       "1     269360\n",
       "Name: loan_status, dtype: int64"
      ]
     },
     "execution_count": 51,
     "metadata": {},
     "output_type": "execute_result"
    }
   ],
   "source": [
    "####################### ------- DELETE ------FOR Testing only ##########3\n",
    "#df = df.sample(n= 100000, random_state = 42)\n",
    "\n",
    "\n",
    "##################################### DELETE #################3\n",
    "\n",
    "df[\"loan_status\"].value_counts()"
   ]
  },
  {
   "cell_type": "code",
   "execution_count": 52,
   "id": "d76508ae",
   "metadata": {
    "execution": {
     "iopub.execute_input": "2021-11-11T14:22:53.133128Z",
     "iopub.status.busy": "2021-11-11T14:22:53.132391Z",
     "iopub.status.idle": "2021-11-11T14:22:53.537153Z",
     "shell.execute_reply": "2021-11-11T14:22:53.536499Z",
     "shell.execute_reply.started": "2021-11-11T12:55:00.552626Z"
    },
    "papermill": {
     "duration": 0.618268,
     "end_time": "2021-11-11T14:22:53.537336",
     "exception": false,
     "start_time": "2021-11-11T14:22:52.919068",
     "status": "completed"
    },
    "tags": []
   },
   "outputs": [],
   "source": [
    "X = df.drop(\"loan_status\",axis =1 )\n",
    "y= df[\"loan_status\"]"
   ]
  },
  {
   "cell_type": "code",
   "execution_count": 53,
   "id": "8a652b8c",
   "metadata": {
    "execution": {
     "iopub.execute_input": "2021-11-11T14:22:53.759070Z",
     "iopub.status.busy": "2021-11-11T14:22:53.758416Z",
     "iopub.status.idle": "2021-11-11T14:22:55.983727Z",
     "shell.execute_reply": "2021-11-11T14:22:55.983122Z",
     "shell.execute_reply.started": "2021-11-11T12:55:00.568388Z"
    },
    "papermill": {
     "duration": 2.338889,
     "end_time": "2021-11-11T14:22:55.983877",
     "exception": false,
     "start_time": "2021-11-11T14:22:53.644988",
     "status": "completed"
    },
    "tags": []
   },
   "outputs": [],
   "source": [
    "X_train, X_test, y_train, y_test = train_test_split(X, y, test_size=0.33, random_state=42)"
   ]
  },
  {
   "cell_type": "markdown",
   "id": "2b7443ef",
   "metadata": {
    "papermill": {
     "duration": 0.105983,
     "end_time": "2021-11-11T14:22:56.196133",
     "exception": false,
     "start_time": "2021-11-11T14:22:56.090150",
     "status": "completed"
    },
    "tags": []
   },
   "source": [
    "# Scaling "
   ]
  },
  {
   "cell_type": "code",
   "execution_count": 54,
   "id": "5dd4e595",
   "metadata": {
    "execution": {
     "iopub.execute_input": "2021-11-11T14:22:56.414380Z",
     "iopub.status.busy": "2021-11-11T14:22:56.413394Z",
     "iopub.status.idle": "2021-11-11T14:22:56.416323Z",
     "shell.execute_reply": "2021-11-11T14:22:56.415704Z",
     "shell.execute_reply.started": "2021-11-11T12:55:00.613922Z"
    },
    "papermill": {
     "duration": 0.112974,
     "end_time": "2021-11-11T14:22:56.416462",
     "exception": false,
     "start_time": "2021-11-11T14:22:56.303488",
     "status": "completed"
    },
    "tags": []
   },
   "outputs": [],
   "source": [
    "from sklearn.preprocessing import MinMaxScaler"
   ]
  },
  {
   "cell_type": "code",
   "execution_count": 55,
   "id": "59f3bfcc",
   "metadata": {
    "execution": {
     "iopub.execute_input": "2021-11-11T14:22:56.633116Z",
     "iopub.status.busy": "2021-11-11T14:22:56.632029Z",
     "iopub.status.idle": "2021-11-11T14:22:56.635134Z",
     "shell.execute_reply": "2021-11-11T14:22:56.634563Z",
     "shell.execute_reply.started": "2021-11-11T12:55:00.619326Z"
    },
    "papermill": {
     "duration": 0.113232,
     "end_time": "2021-11-11T14:22:56.635296",
     "exception": false,
     "start_time": "2021-11-11T14:22:56.522064",
     "status": "completed"
    },
    "tags": []
   },
   "outputs": [],
   "source": [
    "scaler = MinMaxScaler()"
   ]
  },
  {
   "cell_type": "code",
   "execution_count": 56,
   "id": "c83a2d78",
   "metadata": {
    "execution": {
     "iopub.execute_input": "2021-11-11T14:22:56.853133Z",
     "iopub.status.busy": "2021-11-11T14:22:56.852069Z",
     "iopub.status.idle": "2021-11-11T14:23:00.168909Z",
     "shell.execute_reply": "2021-11-11T14:23:00.168308Z",
     "shell.execute_reply.started": "2021-11-11T12:55:00.630078Z"
    },
    "papermill": {
     "duration": 3.427685,
     "end_time": "2021-11-11T14:23:00.169059",
     "exception": false,
     "start_time": "2021-11-11T14:22:56.741374",
     "status": "completed"
    },
    "tags": []
   },
   "outputs": [],
   "source": [
    "# we only transform X_test to stop any leakage \n",
    "X_train = scaler.fit_transform(X_train)\n",
    "X_test = scaler.transform(X_test)"
   ]
  },
  {
   "cell_type": "code",
   "execution_count": 57,
   "id": "2a094094",
   "metadata": {
    "execution": {
     "iopub.execute_input": "2021-11-11T14:23:00.385392Z",
     "iopub.status.busy": "2021-11-11T14:23:00.384636Z",
     "iopub.status.idle": "2021-11-11T14:23:00.389834Z",
     "shell.execute_reply": "2021-11-11T14:23:00.390332Z",
     "shell.execute_reply.started": "2021-11-11T12:55:00.757966Z"
    },
    "papermill": {
     "duration": 0.114801,
     "end_time": "2021-11-11T14:23:00.390501",
     "exception": false,
     "start_time": "2021-11-11T14:23:00.275700",
     "status": "completed"
    },
    "tags": []
   },
   "outputs": [
    {
     "data": {
      "text/plain": [
       "array([[0.35189873, 1.        , 0.47702492, ..., 0.        , 0.75609756,\n",
       "        0.72727273],\n",
       "       [0.24050633, 0.        , 0.10358255, ..., 0.        , 0.86585366,\n",
       "        0.18181818],\n",
       "       [0.24050633, 0.        , 0.51168224, ..., 0.        , 0.86585366,\n",
       "        0.09090909],\n",
       "       ...,\n",
       "       [0.59493671, 1.        , 0.28738318, ..., 0.        , 0.82926829,\n",
       "        0.45454545],\n",
       "       [0.18987342, 0.        , 0.2017134 , ..., 0.        , 0.85365854,\n",
       "        0.        ],\n",
       "       [0.18987342, 0.        , 0.2017134 , ..., 0.        , 0.87804878,\n",
       "        0.27272727]])"
      ]
     },
     "execution_count": 57,
     "metadata": {},
     "output_type": "execute_result"
    }
   ],
   "source": [
    "X_train"
   ]
  },
  {
   "cell_type": "markdown",
   "id": "6c090f27",
   "metadata": {
    "papermill": {
     "duration": 0.110124,
     "end_time": "2021-11-11T14:23:00.608418",
     "exception": false,
     "start_time": "2021-11-11T14:23:00.498294",
     "status": "completed"
    },
    "tags": []
   },
   "source": [
    "# TPU Setup \n",
    "https://www.kaggle.com/docs/tpu"
   ]
  },
  {
   "cell_type": "code",
   "execution_count": 58,
   "id": "1f1aa504",
   "metadata": {
    "execution": {
     "iopub.execute_input": "2021-11-11T14:23:00.846336Z",
     "iopub.status.busy": "2021-11-11T14:23:00.845457Z",
     "iopub.status.idle": "2021-11-11T14:23:06.791184Z",
     "shell.execute_reply": "2021-11-11T14:23:06.790624Z",
     "shell.execute_reply.started": "2021-11-11T12:55:00.766362Z"
    },
    "papermill": {
     "duration": 6.076053,
     "end_time": "2021-11-11T14:23:06.791337",
     "exception": false,
     "start_time": "2021-11-11T14:23:00.715284",
     "status": "completed"
    },
    "tags": []
   },
   "outputs": [
    {
     "name": "stdout",
     "output_type": "stream",
     "text": [
      "Tensorflow version 2.4.1\n",
      "Running on TPU  ['10.0.0.2:8470']\n"
     ]
    },
    {
     "name": "stderr",
     "output_type": "stream",
     "text": [
      "2021-11-11 14:23:00.831027: I tensorflow/compiler/jit/xla_cpu_device.cc:41] Not creating XLA devices, tf_xla_enable_xla_devices not set\n",
      "2021-11-11 14:23:00.834376: W tensorflow/stream_executor/platform/default/dso_loader.cc:60] Could not load dynamic library 'libcuda.so.1'; dlerror: libcuda.so.1: cannot open shared object file: No such file or directory; LD_LIBRARY_PATH: /opt/conda/lib\n",
      "2021-11-11 14:23:00.834421: W tensorflow/stream_executor/cuda/cuda_driver.cc:326] failed call to cuInit: UNKNOWN ERROR (303)\n",
      "2021-11-11 14:23:00.834461: I tensorflow/stream_executor/cuda/cuda_diagnostics.cc:156] kernel driver does not appear to be running on this host (4f3c81b0b2e8): /proc/driver/nvidia/version does not exist\n",
      "2021-11-11 14:23:00.838459: I tensorflow/core/platform/cpu_feature_guard.cc:142] This TensorFlow binary is optimized with oneAPI Deep Neural Network Library (oneDNN) to use the following CPU instructions in performance-critical operations:  AVX2 FMA\n",
      "To enable them in other operations, rebuild TensorFlow with the appropriate compiler flags.\n",
      "2021-11-11 14:23:00.840137: I tensorflow/compiler/jit/xla_gpu_device.cc:99] Not creating XLA devices, tf_xla_enable_xla_devices not set\n",
      "2021-11-11 14:23:00.870233: I tensorflow/core/distributed_runtime/rpc/grpc_channel.cc:301] Initialize GrpcChannelCache for job worker -> {0 -> 10.0.0.2:8470}\n",
      "2021-11-11 14:23:00.870316: I tensorflow/core/distributed_runtime/rpc/grpc_channel.cc:301] Initialize GrpcChannelCache for job localhost -> {0 -> localhost:30021}\n",
      "2021-11-11 14:23:00.889908: I tensorflow/core/distributed_runtime/rpc/grpc_channel.cc:301] Initialize GrpcChannelCache for job worker -> {0 -> 10.0.0.2:8470}\n",
      "2021-11-11 14:23:00.889970: I tensorflow/core/distributed_runtime/rpc/grpc_channel.cc:301] Initialize GrpcChannelCache for job localhost -> {0 -> localhost:30021}\n",
      "2021-11-11 14:23:00.891905: I tensorflow/core/distributed_runtime/rpc/grpc_server_lib.cc:411] Started server with target: grpc://localhost:30021\n"
     ]
    }
   ],
   "source": [
    "print(\"Tensorflow version \" + tf.__version__)\n",
    "\n",
    "try:\n",
    "  tpu = tf.distribute.cluster_resolver.TPUClusterResolver()  # TPU detection\n",
    "  print('Running on TPU ', tpu.cluster_spec().as_dict()['worker'])\n",
    "except ValueError:\n",
    "  raise BaseException('ERROR: Not connected to a TPU runtime')\n",
    "\n",
    "tf.config.experimental_connect_to_cluster(tpu)\n",
    "tf.tpu.experimental.initialize_tpu_system(tpu)\n",
    "tpu_strategy = tf.distribute.experimental.TPUStrategy(tpu)"
   ]
  },
  {
   "cell_type": "markdown",
   "id": "42cdb436",
   "metadata": {
    "execution": {
     "iopub.execute_input": "2021-11-01T07:37:46.773181Z",
     "iopub.status.busy": "2021-11-01T07:37:46.772824Z",
     "iopub.status.idle": "2021-11-01T07:37:46.777533Z",
     "shell.execute_reply": "2021-11-01T07:37:46.776823Z",
     "shell.execute_reply.started": "2021-11-01T07:37:46.773138Z"
    },
    "papermill": {
     "duration": 0.108242,
     "end_time": "2021-11-11T14:23:07.010352",
     "exception": false,
     "start_time": "2021-11-11T14:23:06.902110",
     "status": "completed"
    },
    "tags": []
   },
   "source": [
    "# Deep learning  - Multilayer Perceptons\n",
    "\n",
    "## Base model\n",
    "We will use a basic model with dropout layers (to reduce overfitting). We can then look changing the bias/ threshold due to the imbalanced dataset"
   ]
  },
  {
   "cell_type": "code",
   "execution_count": 59,
   "id": "e3c5fec7",
   "metadata": {
    "execution": {
     "iopub.execute_input": "2021-11-11T14:23:07.230291Z",
     "iopub.status.busy": "2021-11-11T14:23:07.229548Z",
     "iopub.status.idle": "2021-11-11T14:23:07.232061Z",
     "shell.execute_reply": "2021-11-11T14:23:07.231469Z",
     "shell.execute_reply.started": "2021-11-11T12:55:06.498146Z"
    },
    "papermill": {
     "duration": 0.114238,
     "end_time": "2021-11-11T14:23:07.232218",
     "exception": false,
     "start_time": "2021-11-11T14:23:07.117980",
     "status": "completed"
    },
    "tags": []
   },
   "outputs": [],
   "source": [
    "EPOCHS = 100\n",
    "BATCH_SIZE = 16 * tpu_strategy.num_replicas_in_sync\n",
    "\n",
    "early_stopping = tf.keras.callbacks.EarlyStopping(\n",
    "    monitor='val_loss', \n",
    "    verbose=1,\n",
    "    patience=10,\n",
    "    mode='min')\n",
    "\n",
    "step_epoch = len(df)/BATCH_SIZE"
   ]
  },
  {
   "cell_type": "code",
   "execution_count": 60,
   "id": "6c532e0a",
   "metadata": {
    "execution": {
     "iopub.execute_input": "2021-11-11T14:23:07.451946Z",
     "iopub.status.busy": "2021-11-11T14:23:07.451147Z",
     "iopub.status.idle": "2021-11-11T14:23:07.454154Z",
     "shell.execute_reply": "2021-11-11T14:23:07.453505Z",
     "shell.execute_reply.started": "2021-11-11T12:55:06.505434Z"
    },
    "papermill": {
     "duration": 0.11406,
     "end_time": "2021-11-11T14:23:07.454311",
     "exception": false,
     "start_time": "2021-11-11T14:23:07.340251",
     "status": "completed"
    },
    "tags": []
   },
   "outputs": [],
   "source": [
    "METRICS = [\n",
    "     # tf.keras.metrics.TruePositives(name='tp'),\n",
    "      #tf.keras.metrics.FalsePositives(name='fp'),\n",
    "      #tf.keras.metrics.TrueNegatives(name='tn'),\n",
    "      #tf.keras.metrics.FalseNegatives(name='fn'), \n",
    "      #tf.keras.metrics.BinaryAccuracy(name='accuracy'),\n",
    "      #tf.keras.metrics.Precision(name='precision'),\n",
    "      #tf.keras.metrics.Recall(name='recall'),\n",
    "      #tf.keras.metrics.AUC(name='auc'),\n",
    "      #tf.keras.metrics.AUC(name='prc', curve='PR'), # precision-recall curve\n",
    "]"
   ]
  },
  {
   "cell_type": "markdown",
   "id": "12258b8f",
   "metadata": {
    "papermill": {
     "duration": 0.106041,
     "end_time": "2021-11-11T14:23:07.667087",
     "exception": false,
     "start_time": "2021-11-11T14:23:07.561046",
     "status": "completed"
    },
    "tags": []
   },
   "source": [
    "### Number of Layers and neurons \n",
    "As a general rule of thumb\n",
    "* The number of inital neurons in the ***first layer***= total number of features or less \n",
    "* The number of inital neurons in the ***second layer***= approx. half of the number of features\n",
    "* The number of hiden layers is 2 \n",
    "This is what we will start with but can be changed in future runs "
   ]
  },
  {
   "cell_type": "code",
   "execution_count": 61,
   "id": "db239ebf",
   "metadata": {
    "execution": {
     "iopub.execute_input": "2021-11-11T14:23:07.888962Z",
     "iopub.status.busy": "2021-11-11T14:23:07.888295Z",
     "iopub.status.idle": "2021-11-11T14:23:07.892767Z",
     "shell.execute_reply": "2021-11-11T14:23:07.892245Z",
     "shell.execute_reply.started": "2021-11-11T12:55:06.517477Z"
    },
    "papermill": {
     "duration": 0.118604,
     "end_time": "2021-11-11T14:23:07.892910",
     "exception": false,
     "start_time": "2021-11-11T14:23:07.774306",
     "status": "completed"
    },
    "tags": []
   },
   "outputs": [
    {
     "data": {
      "text/plain": [
       "(2226416, 121)"
      ]
     },
     "execution_count": 61,
     "metadata": {},
     "output_type": "execute_result"
    }
   ],
   "source": [
    "df.shape"
   ]
  },
  {
   "cell_type": "code",
   "execution_count": 62,
   "id": "6db11fff",
   "metadata": {
    "execution": {
     "iopub.execute_input": "2021-11-11T14:23:08.118534Z",
     "iopub.status.busy": "2021-11-11T14:23:08.117835Z",
     "iopub.status.idle": "2021-11-11T14:23:08.120223Z",
     "shell.execute_reply": "2021-11-11T14:23:08.120736Z",
     "shell.execute_reply.started": "2021-11-11T12:55:06.536027Z"
    },
    "papermill": {
     "duration": 0.119465,
     "end_time": "2021-11-11T14:23:08.120915",
     "exception": false,
     "start_time": "2021-11-11T14:23:08.001450",
     "status": "completed"
    },
    "tags": []
   },
   "outputs": [],
   "source": [
    "def make_model(metrics=METRICS, output_bias=None):\n",
    "  if output_bias is not None:\n",
    "    output_bias = tf.keras.initializers.Constant(output_bias)\n",
    "  model = tf.keras.Sequential([\n",
    "      tf.keras.layers.Dense(120, activation='relu'),\n",
    "      tf.keras.layers.Dropout(0.5),\n",
    "      \n",
    "      tf.keras.layers.Dense(60, activation='relu'),\n",
    "      tf.keras.layers.Dropout(0.5),\n",
    "      \n",
    "      tf.keras.layers.Dense(1, activation='sigmoid',\n",
    "                         bias_initializer=output_bias),\n",
    "  ])\n",
    "\n",
    "  model.compile(\n",
    "      optimizer=tf.keras.optimizers.Adam(learning_rate=1e-3),\n",
    "      loss=tf.keras.losses.BinaryCrossentropy(),\n",
    "      metrics=metrics)\n",
    "\n",
    "  return model"
   ]
  },
  {
   "cell_type": "code",
   "execution_count": 63,
   "id": "216bc5b2",
   "metadata": {
    "execution": {
     "iopub.execute_input": "2021-11-11T14:23:08.340978Z",
     "iopub.status.busy": "2021-11-11T14:23:08.340072Z",
     "iopub.status.idle": "2021-11-11T16:11:57.909244Z",
     "shell.execute_reply": "2021-11-11T16:11:57.909740Z",
     "shell.execute_reply.started": "2021-11-11T12:56:54.698659Z"
    },
    "papermill": {
     "duration": 6529.681498,
     "end_time": "2021-11-11T16:11:57.909938",
     "exception": false,
     "start_time": "2021-11-11T14:23:08.228440",
     "status": "completed"
    },
    "tags": []
   },
   "outputs": [
    {
     "name": "stderr",
     "output_type": "stream",
     "text": [
      "2021-11-11 14:23:09.129564: W tensorflow/core/framework/cpu_allocator_impl.cc:80] Allocation of 716015040 exceeds 10% of free system memory.\n"
     ]
    },
    {
     "name": "stdout",
     "output_type": "stream",
     "text": [
      "Epoch 1/100\n",
      "11654/11654 [==============================] - ETA: 0s - loss: 0.3660"
     ]
    },
    {
     "name": "stderr",
     "output_type": "stream",
     "text": [
      "2021-11-11 14:25:00.724320: W tensorflow/core/framework/cpu_allocator_impl.cc:80] Allocation of 352664640 exceeds 10% of free system memory.\n"
     ]
    },
    {
     "name": "stdout",
     "output_type": "stream",
     "text": [
      "11654/11654 [==============================] - 149s 13ms/step - loss: 0.3659 - val_loss: 0.3375\n",
      "Epoch 2/100\n",
      "11654/11654 [==============================] - 149s 13ms/step - loss: 0.3416 - val_loss: 0.3367\n",
      "Epoch 3/100\n",
      "11654/11654 [==============================] - 145s 12ms/step - loss: 0.3397 - val_loss: 0.3369\n",
      "Epoch 4/100\n",
      "11654/11654 [==============================] - 150s 13ms/step - loss: 0.3389 - val_loss: 0.3350\n",
      "Epoch 5/100\n",
      "11654/11654 [==============================] - 144s 12ms/step - loss: 0.3377 - val_loss: 0.3346\n",
      "Epoch 6/100\n",
      "11654/11654 [==============================] - 144s 12ms/step - loss: 0.3372 - val_loss: 0.3333\n",
      "Epoch 7/100\n",
      "11654/11654 [==============================] - 145s 12ms/step - loss: 0.3372 - val_loss: 0.3328\n",
      "Epoch 8/100\n",
      "11654/11654 [==============================] - 140s 12ms/step - loss: 0.3366 - val_loss: 0.3323\n",
      "Epoch 9/100\n",
      "11654/11654 [==============================] - 136s 12ms/step - loss: 0.3364 - val_loss: 0.3328\n",
      "Epoch 10/100\n",
      "11654/11654 [==============================] - 136s 12ms/step - loss: 0.3350 - val_loss: 0.3321\n",
      "Epoch 11/100\n",
      "11654/11654 [==============================] - 142s 12ms/step - loss: 0.3360 - val_loss: 0.3317\n",
      "Epoch 12/100\n",
      "11654/11654 [==============================] - 148s 13ms/step - loss: 0.3359 - val_loss: 0.3315\n",
      "Epoch 13/100\n",
      "11654/11654 [==============================] - 144s 12ms/step - loss: 0.3354 - val_loss: 0.3319\n",
      "Epoch 14/100\n",
      "11654/11654 [==============================] - 144s 12ms/step - loss: 0.3342 - val_loss: 0.3319\n",
      "Epoch 15/100\n",
      "11654/11654 [==============================] - 144s 12ms/step - loss: 0.3343 - val_loss: 0.3320\n",
      "Epoch 16/100\n",
      "11654/11654 [==============================] - 143s 12ms/step - loss: 0.3351 - val_loss: 0.3312\n",
      "Epoch 17/100\n",
      "11654/11654 [==============================] - 143s 12ms/step - loss: 0.3343 - val_loss: 0.3308\n",
      "Epoch 18/100\n",
      "11654/11654 [==============================] - 143s 12ms/step - loss: 0.3343 - val_loss: 0.3313\n",
      "Epoch 19/100\n",
      "11654/11654 [==============================] - 148s 13ms/step - loss: 0.3346 - val_loss: 0.3302\n",
      "Epoch 20/100\n",
      "11654/11654 [==============================] - 143s 12ms/step - loss: 0.3340 - val_loss: 0.3304\n",
      "Epoch 21/100\n",
      "11654/11654 [==============================] - 142s 12ms/step - loss: 0.3347 - val_loss: 0.3306\n",
      "Epoch 22/100\n",
      "11654/11654 [==============================] - 141s 12ms/step - loss: 0.3341 - val_loss: 0.3305\n",
      "Epoch 23/100\n",
      "11654/11654 [==============================] - 143s 12ms/step - loss: 0.3333 - val_loss: 0.3309\n",
      "Epoch 24/100\n",
      "11654/11654 [==============================] - 144s 12ms/step - loss: 0.3342 - val_loss: 0.3306\n",
      "Epoch 25/100\n",
      "11654/11654 [==============================] - 140s 12ms/step - loss: 0.3342 - val_loss: 0.3313\n",
      "Epoch 26/100\n",
      "11654/11654 [==============================] - 138s 12ms/step - loss: 0.3337 - val_loss: 0.3302\n",
      "Epoch 27/100\n",
      "11654/11654 [==============================] - 144s 12ms/step - loss: 0.3339 - val_loss: 0.3307\n",
      "Epoch 28/100\n",
      "11654/11654 [==============================] - 137s 12ms/step - loss: 0.3338 - val_loss: 0.3305\n",
      "Epoch 29/100\n",
      "11654/11654 [==============================] - 132s 11ms/step - loss: 0.3345 - val_loss: 0.3301\n",
      "Epoch 30/100\n",
      "11654/11654 [==============================] - 139s 12ms/step - loss: 0.3335 - val_loss: 0.3313\n",
      "Epoch 31/100\n",
      "11654/11654 [==============================] - 137s 12ms/step - loss: 0.3350 - val_loss: 0.3303\n",
      "Epoch 32/100\n",
      "11654/11654 [==============================] - 136s 12ms/step - loss: 0.3335 - val_loss: 0.3303\n",
      "Epoch 33/100\n",
      "11654/11654 [==============================] - 144s 12ms/step - loss: 0.3328 - val_loss: 0.3313\n",
      "Epoch 34/100\n",
      "11654/11654 [==============================] - 144s 12ms/step - loss: 0.3327 - val_loss: 0.3310\n",
      "Epoch 35/100\n",
      "11654/11654 [==============================] - 141s 12ms/step - loss: 0.3338 - val_loss: 0.3305\n",
      "Epoch 36/100\n",
      "11654/11654 [==============================] - 142s 12ms/step - loss: 0.3336 - val_loss: 0.3298\n",
      "Epoch 37/100\n",
      "11654/11654 [==============================] - 143s 12ms/step - loss: 0.3333 - val_loss: 0.3302\n",
      "Epoch 38/100\n",
      "11654/11654 [==============================] - 141s 12ms/step - loss: 0.3328 - val_loss: 0.3303\n",
      "Epoch 39/100\n",
      "11654/11654 [==============================] - 145s 12ms/step - loss: 0.3335 - val_loss: 0.3304\n",
      "Epoch 40/100\n",
      "11654/11654 [==============================] - 142s 12ms/step - loss: 0.3330 - val_loss: 0.3312\n",
      "Epoch 41/100\n",
      "11654/11654 [==============================] - 140s 12ms/step - loss: 0.3329 - val_loss: 0.3304\n",
      "Epoch 42/100\n",
      "11654/11654 [==============================] - 138s 12ms/step - loss: 0.3335 - val_loss: 0.3331\n",
      "Epoch 43/100\n",
      "11654/11654 [==============================] - 142s 12ms/step - loss: 0.3334 - val_loss: 0.3313\n",
      "Epoch 44/100\n",
      "11654/11654 [==============================] - 139s 12ms/step - loss: 0.3334 - val_loss: 0.3316\n",
      "Epoch 45/100\n",
      "11654/11654 [==============================] - 133s 11ms/step - loss: 0.3336 - val_loss: 0.3317\n",
      "Epoch 46/100\n",
      "11654/11654 [==============================] - 139s 12ms/step - loss: 0.3326 - val_loss: 0.3304\n",
      "Epoch 00046: early stopping\n"
     ]
    },
    {
     "data": {
      "text/plain": [
       "<tensorflow.python.keras.callbacks.History at 0x7fb8dc1c8ad0>"
      ]
     },
     "execution_count": 63,
     "metadata": {},
     "output_type": "execute_result"
    }
   ],
   "source": [
    "with tpu_strategy.scope(): # creating the model in the TPUStrategy scope means we will train the model on the TPU\n",
    "  model = make_model()\n",
    "\n",
    "# train model normally\n",
    "model.fit(X_train,y_train, epochs=EPOCHS, batch_size = BATCH_SIZE, validation_data=(X_test,y_test), callbacks = early_stopping)"
   ]
  },
  {
   "cell_type": "code",
   "execution_count": 64,
   "id": "22a1cbfa",
   "metadata": {
    "execution": {
     "iopub.execute_input": "2021-11-11T16:12:52.245124Z",
     "iopub.status.busy": "2021-11-11T16:12:52.244409Z",
     "iopub.status.idle": "2021-11-11T16:12:52.249962Z",
     "shell.execute_reply": "2021-11-11T16:12:52.249254Z",
     "shell.execute_reply.started": "2021-11-11T12:59:06.909145Z"
    },
    "papermill": {
     "duration": 27.102378,
     "end_time": "2021-11-11T16:12:52.250103",
     "exception": false,
     "start_time": "2021-11-11T16:12:25.147725",
     "status": "completed"
    },
    "tags": []
   },
   "outputs": [
    {
     "name": "stdout",
     "output_type": "stream",
     "text": [
      "Model: \"sequential\"\n",
      "_________________________________________________________________\n",
      "Layer (type)                 Output Shape              Param #   \n",
      "=================================================================\n",
      "dense (Dense)                (None, 120)               14520     \n",
      "_________________________________________________________________\n",
      "dropout (Dropout)            (None, 120)               0         \n",
      "_________________________________________________________________\n",
      "dense_1 (Dense)              (None, 60)                7260      \n",
      "_________________________________________________________________\n",
      "dropout_1 (Dropout)          (None, 60)                0         \n",
      "_________________________________________________________________\n",
      "dense_2 (Dense)              (None, 1)                 61        \n",
      "=================================================================\n",
      "Total params: 21,841\n",
      "Trainable params: 21,841\n",
      "Non-trainable params: 0\n",
      "_________________________________________________________________\n"
     ]
    }
   ],
   "source": [
    "model.summary()"
   ]
  },
  {
   "cell_type": "markdown",
   "id": "a5d6566c",
   "metadata": {
    "papermill": {
     "duration": 27.108989,
     "end_time": "2021-11-11T16:13:46.136861",
     "exception": false,
     "start_time": "2021-11-11T16:13:19.027872",
     "status": "completed"
    },
    "tags": []
   },
   "source": [
    "# Model Evaluation \n",
    "\n",
    "We note that the classes are imbalanced, there are very few Default loans. "
   ]
  },
  {
   "cell_type": "code",
   "execution_count": 65,
   "id": "9446ce21",
   "metadata": {
    "execution": {
     "iopub.execute_input": "2021-11-11T16:14:40.115789Z",
     "iopub.status.busy": "2021-11-11T16:14:40.114728Z",
     "iopub.status.idle": "2021-11-11T16:14:40.134098Z",
     "shell.execute_reply": "2021-11-11T16:14:40.133582Z",
     "shell.execute_reply.started": "2021-11-11T12:59:06.920982Z"
    },
    "papermill": {
     "duration": 26.839158,
     "end_time": "2021-11-11T16:14:40.134275",
     "exception": false,
     "start_time": "2021-11-11T16:14:13.295117",
     "status": "completed"
    },
    "tags": []
   },
   "outputs": [
    {
     "name": "stdout",
     "output_type": "stream",
     "text": [
      "% of False: 0.8790163204001409\n",
      "% of True: 0.12098367959985915\n"
     ]
    }
   ],
   "source": [
    "neg  = df[\"loan_status\"].value_counts()[0]\n",
    "pos = df[\"loan_status\"].value_counts()[1]\n",
    "\n",
    "print(\"% of False:\",neg/ len(df))\n",
    "print(\"% of True:\",pos / len(df))"
   ]
  },
  {
   "cell_type": "markdown",
   "id": "a07fe16a",
   "metadata": {
    "papermill": {
     "duration": 27.115372,
     "end_time": "2021-11-11T16:15:34.523687",
     "exception": false,
     "start_time": "2021-11-11T16:15:07.408315",
     "status": "completed"
    },
    "tags": []
   },
   "source": [
    "We need to beat an accuracy of 87% \\\n",
    "i.e. a model that only notes False (not Paid) "
   ]
  },
  {
   "cell_type": "code",
   "execution_count": 66,
   "id": "bb0bea0e",
   "metadata": {
    "execution": {
     "iopub.execute_input": "2021-11-11T16:16:28.695493Z",
     "iopub.status.busy": "2021-11-11T16:16:28.681419Z",
     "iopub.status.idle": "2021-11-11T16:16:28.999456Z",
     "shell.execute_reply": "2021-11-11T16:16:28.999945Z",
     "shell.execute_reply.started": "2021-11-11T12:59:06.937477Z"
    },
    "papermill": {
     "duration": 27.583847,
     "end_time": "2021-11-11T16:16:29.000129",
     "exception": false,
     "start_time": "2021-11-11T16:16:01.416282",
     "status": "completed"
    },
    "tags": []
   },
   "outputs": [
    {
     "data": {
      "text/plain": [
       "<AxesSubplot:>"
      ]
     },
     "execution_count": 66,
     "metadata": {},
     "output_type": "execute_result"
    },
    {
     "data": {
      "image/png": "[encoded data removed]",
      "text/plain": [
       "<Figure size 432x288 with 1 Axes>"
      ]
     },
     "metadata": {},
     "output_type": "display_data"
    }
   ],
   "source": [
    "history = pd.DataFrame(data = model.history.history)\n",
    "\n",
    "## Plot the loss of the traing and test set \n",
    "history.plot()"
   ]
  },
  {
   "cell_type": "code",
   "execution_count": 67,
   "id": "c7a36e5d",
   "metadata": {
    "execution": {
     "iopub.execute_input": "2021-11-11T16:17:22.951317Z",
     "iopub.status.busy": "2021-11-11T16:17:22.950565Z",
     "iopub.status.idle": "2021-11-11T16:17:22.954073Z",
     "shell.execute_reply": "2021-11-11T16:17:22.953580Z",
     "shell.execute_reply.started": "2021-11-11T12:59:07.275549Z"
    },
    "papermill": {
     "duration": 27.152881,
     "end_time": "2021-11-11T16:17:22.954237",
     "exception": false,
     "start_time": "2021-11-11T16:16:55.801356",
     "status": "completed"
    },
    "tags": []
   },
   "outputs": [
    {
     "name": "stdout",
     "output_type": "stream",
     "text": [
      "best epoch:  35\n"
     ]
    }
   ],
   "source": [
    "print( \"best epoch: \", history[\"val_loss\"].argmin() )"
   ]
  },
  {
   "cell_type": "code",
   "execution_count": 68,
   "id": "ee061a28",
   "metadata": {
    "execution": {
     "iopub.execute_input": "2021-11-11T16:18:16.577306Z",
     "iopub.status.busy": "2021-11-11T16:18:16.576490Z",
     "iopub.status.idle": "2021-11-11T16:21:46.663236Z",
     "shell.execute_reply": "2021-11-11T16:21:46.663722Z",
     "shell.execute_reply.started": "2021-11-11T12:59:07.284197Z"
    },
    "papermill": {
     "duration": 236.83018,
     "end_time": "2021-11-11T16:21:46.663913",
     "exception": false,
     "start_time": "2021-11-11T16:17:49.833733",
     "status": "completed"
    },
    "tags": []
   },
   "outputs": [
    {
     "name": "stderr",
     "output_type": "stream",
     "text": [
      "2021-11-11 16:18:17.349499: W tensorflow/core/framework/cpu_allocator_impl.cc:80] Allocation of 352664640 exceeds 10% of free system memory.\n"
     ]
    },
    {
     "name": "stdout",
     "output_type": "stream",
     "text": [
      "22960/22960 [==============================] - 207s 9ms/step - loss: 0.3304\n"
     ]
    },
    {
     "data": {
      "text/plain": [
       "0.33035585284233093"
      ]
     },
     "execution_count": 68,
     "metadata": {},
     "output_type": "execute_result"
    }
   ],
   "source": [
    "model.evaluate(X_test,y_test)"
   ]
  },
  {
   "cell_type": "code",
   "execution_count": 69,
   "id": "4fd90a25",
   "metadata": {
    "execution": {
     "iopub.execute_input": "2021-11-11T16:22:43.038862Z",
     "iopub.status.busy": "2021-11-11T16:22:43.038233Z",
     "iopub.status.idle": "2021-11-11T16:24:11.925228Z",
     "shell.execute_reply": "2021-11-11T16:24:11.924197Z",
     "shell.execute_reply.started": "2021-11-11T12:59:17.094881Z"
    },
    "papermill": {
     "duration": 116.749464,
     "end_time": "2021-11-11T16:24:11.925461",
     "exception": false,
     "start_time": "2021-11-11T16:22:15.175997",
     "status": "completed"
    },
    "tags": []
   },
   "outputs": [
    {
     "name": "stderr",
     "output_type": "stream",
     "text": [
      "2021-11-11 16:22:43.412880: W tensorflow/core/framework/cpu_allocator_impl.cc:80] Allocation of 352664640 exceeds 10% of free system memory.\n"
     ]
    }
   ],
   "source": [
    "# Note - predict_classes was deprecated as of tensorflow 2.6 \n",
    "y_pred = model.predict(X_test)\n",
    "y_pred = (y_pred > 0.5).astype(\"int32\")"
   ]
  },
  {
   "cell_type": "code",
   "execution_count": 70,
   "id": "299f11f2",
   "metadata": {
    "execution": {
     "iopub.execute_input": "2021-11-11T16:25:08.533048Z",
     "iopub.status.busy": "2021-11-11T16:25:08.531896Z",
     "iopub.status.idle": "2021-11-11T16:25:09.595398Z",
     "shell.execute_reply": "2021-11-11T16:25:09.594811Z",
     "shell.execute_reply.started": "2021-11-11T12:59:21.935837Z"
    },
    "papermill": {
     "duration": 29.400316,
     "end_time": "2021-11-11T16:25:09.595546",
     "exception": false,
     "start_time": "2021-11-11T16:24:40.195230",
     "status": "completed"
    },
    "tags": []
   },
   "outputs": [
    {
     "name": "stdout",
     "output_type": "stream",
     "text": [
      "0.8791332184593272\n",
      "              precision    recall  f1-score   support\n",
      "\n",
      "           0       0.88      1.00      0.94    645909\n",
      "           1       0.64      0.00      0.00     88809\n",
      "\n",
      "    accuracy                           0.88    734718\n",
      "   macro avg       0.76      0.50      0.47    734718\n",
      "weighted avg       0.85      0.88      0.82    734718\n",
      "\n"
     ]
    }
   ],
   "source": [
    "print( accuracy_score(y_test,y_pred) )\n",
    "\n",
    "print( classification_report(y_test,y_pred) )"
   ]
  },
  {
   "cell_type": "markdown",
   "id": "0dc7ec5f",
   "metadata": {
    "papermill": {
     "duration": 28.036683,
     "end_time": "2021-11-11T16:26:05.935161",
     "exception": false,
     "start_time": "2021-11-11T16:25:37.898478",
     "status": "completed"
    },
    "tags": []
   },
   "source": [
    "### Poor performance \n",
    "87% accuracy as seen above is not ideal, as this is showing that the model may only be labelling most things FALSE\n",
    "We can also see this via the F1 score for 1 (positive) of 0.0, which is very poor "
   ]
  },
  {
   "cell_type": "markdown",
   "id": "a101c7a7",
   "metadata": {
    "execution": {
     "iopub.execute_input": "2021-11-11T09:03:34.24266Z",
     "iopub.status.busy": "2021-11-11T09:03:34.242384Z",
     "iopub.status.idle": "2021-11-11T09:03:34.248152Z",
     "shell.execute_reply": "2021-11-11T09:03:34.245422Z",
     "shell.execute_reply.started": "2021-11-11T09:03:34.242629Z"
    },
    "papermill": {
     "duration": 27.965409,
     "end_time": "2021-11-11T16:27:02.271273",
     "exception": false,
     "start_time": "2021-11-11T16:26:34.305864",
     "status": "completed"
    },
    "tags": []
   },
   "source": [
    "# New bias model "
   ]
  },
  {
   "cell_type": "code",
   "execution_count": 71,
   "id": "77a413d0",
   "metadata": {
    "execution": {
     "iopub.execute_input": "2021-11-11T16:27:58.172131Z",
     "iopub.status.busy": "2021-11-11T16:27:58.171314Z",
     "iopub.status.idle": "2021-11-11T16:27:58.174528Z",
     "shell.execute_reply": "2021-11-11T16:27:58.175017Z",
     "shell.execute_reply.started": "2021-11-11T12:59:21.994601Z"
    },
    "papermill": {
     "duration": 27.939388,
     "end_time": "2021-11-11T16:27:58.175200",
     "exception": false,
     "start_time": "2021-11-11T16:27:30.235812",
     "status": "completed"
    },
    "tags": []
   },
   "outputs": [
    {
     "data": {
      "text/plain": [
       "array([-1.98314781])"
      ]
     },
     "execution_count": 71,
     "metadata": {},
     "output_type": "execute_result"
    }
   ],
   "source": [
    "initial_bias = np.log([pos/neg])\n",
    "initial_bias"
   ]
  },
  {
   "cell_type": "code",
   "execution_count": 72,
   "id": "b464ba8f",
   "metadata": {
    "execution": {
     "iopub.execute_input": "2021-11-11T16:28:54.597982Z",
     "iopub.status.busy": "2021-11-11T16:28:54.597042Z",
     "iopub.status.idle": "2021-11-11T18:59:59.805097Z",
     "shell.execute_reply": "2021-11-11T18:59:59.804538Z",
     "shell.execute_reply.started": "2021-11-11T12:59:22.005342Z"
    },
    "papermill": {
     "duration": 9093.442712,
     "end_time": "2021-11-11T18:59:59.805269",
     "exception": false,
     "start_time": "2021-11-11T16:28:26.362557",
     "status": "completed"
    },
    "tags": []
   },
   "outputs": [
    {
     "name": "stderr",
     "output_type": "stream",
     "text": [
      "2021-11-11 16:28:55.686540: W tensorflow/core/framework/cpu_allocator_impl.cc:80] Allocation of 716015040 exceeds 10% of free system memory.\n"
     ]
    },
    {
     "name": "stdout",
     "output_type": "stream",
     "text": [
      "Epoch 1/100\n",
      "11654/11654 [==============================] - 148s 12ms/step - loss: 0.3466 - val_loss: 0.3377\n",
      "Epoch 2/100\n",
      "11654/11654 [==============================] - 147s 13ms/step - loss: 0.3399 - val_loss: 0.3365\n",
      "Epoch 3/100\n",
      "11654/11654 [==============================] - 145s 12ms/step - loss: 0.3380 - val_loss: 0.3364\n",
      "Epoch 4/100\n",
      "11654/11654 [==============================] - 144s 12ms/step - loss: 0.3391 - val_loss: 0.3347\n",
      "Epoch 5/100\n",
      "11654/11654 [==============================] - 144s 12ms/step - loss: 0.3384 - val_loss: 0.3346\n",
      "Epoch 6/100\n",
      "11654/11654 [==============================] - 141s 12ms/step - loss: 0.3376 - val_loss: 0.3349\n",
      "Epoch 7/100\n",
      "11654/11654 [==============================] - 141s 12ms/step - loss: 0.3364 - val_loss: 0.3346\n",
      "Epoch 8/100\n",
      "11654/11654 [==============================] - 138s 12ms/step - loss: 0.3367 - val_loss: 0.3327\n",
      "Epoch 9/100\n",
      "11654/11654 [==============================] - 143s 12ms/step - loss: 0.3360 - val_loss: 0.3328\n",
      "Epoch 10/100\n",
      "11654/11654 [==============================] - 149s 13ms/step - loss: 0.3363 - val_loss: 0.3320\n",
      "Epoch 11/100\n",
      "11654/11654 [==============================] - 145s 12ms/step - loss: 0.3355 - val_loss: 0.3326\n",
      "Epoch 12/100\n",
      "11654/11654 [==============================] - 148s 13ms/step - loss: 0.3353 - val_loss: 0.3318\n",
      "Epoch 13/100\n",
      "11654/11654 [==============================] - 144s 12ms/step - loss: 0.3364 - val_loss: 0.3317\n",
      "Epoch 14/100\n",
      "11654/11654 [==============================] - 145s 12ms/step - loss: 0.3349 - val_loss: 0.3310\n",
      "Epoch 15/100\n",
      "11654/11654 [==============================] - 141s 12ms/step - loss: 0.3351 - val_loss: 0.3307\n",
      "Epoch 16/100\n",
      "11654/11654 [==============================] - 142s 12ms/step - loss: 0.3354 - val_loss: 0.3315\n",
      "Epoch 17/100\n",
      "11654/11654 [==============================] - 142s 12ms/step - loss: 0.3351 - val_loss: 0.3305\n",
      "Epoch 18/100\n",
      "11654/11654 [==============================] - 141s 12ms/step - loss: 0.3343 - val_loss: 0.3316\n",
      "Epoch 19/100\n",
      "11654/11654 [==============================] - 140s 12ms/step - loss: 0.3350 - val_loss: 0.3305\n",
      "Epoch 20/100\n",
      "11654/11654 [==============================] - 142s 12ms/step - loss: 0.3348 - val_loss: 0.3309\n",
      "Epoch 21/100\n",
      "11654/11654 [==============================] - 141s 12ms/step - loss: 0.3339 - val_loss: 0.3309\n",
      "Epoch 22/100\n",
      "11654/11654 [==============================] - 141s 12ms/step - loss: 0.3343 - val_loss: 0.3308\n",
      "Epoch 23/100\n",
      "11654/11654 [==============================] - 141s 12ms/step - loss: 0.3336 - val_loss: 0.3299\n",
      "Epoch 24/100\n",
      "11654/11654 [==============================] - 143s 12ms/step - loss: 0.3339 - val_loss: 0.3305\n",
      "Epoch 25/100\n",
      "11654/11654 [==============================] - 141s 12ms/step - loss: 0.3339 - val_loss: 0.3303\n",
      "Epoch 26/100\n",
      "11654/11654 [==============================] - 148s 13ms/step - loss: 0.3339 - val_loss: 0.3299\n",
      "Epoch 27/100\n",
      "11654/11654 [==============================] - 150s 13ms/step - loss: 0.3332 - val_loss: 0.3303\n",
      "Epoch 28/100\n",
      "11654/11654 [==============================] - 152s 13ms/step - loss: 0.3338 - val_loss: 0.3302\n",
      "Epoch 29/100\n",
      "11654/11654 [==============================] - 150s 13ms/step - loss: 0.3334 - val_loss: 0.3301\n",
      "Epoch 30/100\n",
      "11654/11654 [==============================] - 149s 13ms/step - loss: 0.3336 - val_loss: 0.3300\n",
      "Epoch 31/100\n",
      "11654/11654 [==============================] - 149s 13ms/step - loss: 0.3337 - val_loss: 0.3301\n",
      "Epoch 32/100\n",
      "11654/11654 [==============================] - 152s 13ms/step - loss: 0.3335 - val_loss: 0.3304\n",
      "Epoch 33/100\n",
      "11654/11654 [==============================] - 152s 13ms/step - loss: 0.3340 - val_loss: 0.3301\n",
      "Epoch 34/100\n",
      "11654/11654 [==============================] - 152s 13ms/step - loss: 0.3334 - val_loss: 0.3298\n",
      "Epoch 35/100\n",
      "11654/11654 [==============================] - 150s 13ms/step - loss: 0.3340 - val_loss: 0.3302\n",
      "Epoch 36/100\n",
      "11654/11654 [==============================] - 149s 13ms/step - loss: 0.3334 - val_loss: 0.3297\n",
      "Epoch 37/100\n",
      "11654/11654 [==============================] - 143s 12ms/step - loss: 0.3338 - val_loss: 0.3302\n",
      "Epoch 38/100\n",
      "11654/11654 [==============================] - 152s 13ms/step - loss: 0.3334 - val_loss: 0.3301\n",
      "Epoch 39/100\n",
      "11654/11654 [==============================] - 151s 13ms/step - loss: 0.3334 - val_loss: 0.3305\n",
      "Epoch 40/100\n",
      "11654/11654 [==============================] - 146s 13ms/step - loss: 0.3333 - val_loss: 0.3306\n",
      "Epoch 41/100\n",
      "11654/11654 [==============================] - 146s 13ms/step - loss: 0.3339 - val_loss: 0.3299\n",
      "Epoch 42/100\n",
      "11654/11654 [==============================] - 146s 13ms/step - loss: 0.3350 - val_loss: 0.3301\n",
      "Epoch 43/100\n",
      "11654/11654 [==============================] - 139s 12ms/step - loss: 0.3335 - val_loss: 0.3296\n",
      "Epoch 44/100\n",
      "11654/11654 [==============================] - 150s 13ms/step - loss: 0.3326 - val_loss: 0.3297\n",
      "Epoch 45/100\n",
      "11654/11654 [==============================] - 149s 13ms/step - loss: 0.3350 - val_loss: 0.3296\n",
      "Epoch 46/100\n",
      "11654/11654 [==============================] - 151s 13ms/step - loss: 0.3330 - val_loss: 0.3297\n",
      "Epoch 47/100\n",
      "11654/11654 [==============================] - 151s 13ms/step - loss: 0.3334 - val_loss: 0.3302\n",
      "Epoch 48/100\n",
      "11654/11654 [==============================] - 148s 13ms/step - loss: 0.3332 - val_loss: 0.3298\n",
      "Epoch 49/100\n",
      "11654/11654 [==============================] - 151s 13ms/step - loss: 0.3331 - val_loss: 0.3297\n",
      "Epoch 50/100\n",
      "11654/11654 [==============================] - 152s 13ms/step - loss: 0.3339 - val_loss: 0.3296\n",
      "Epoch 51/100\n",
      "11654/11654 [==============================] - 146s 13ms/step - loss: 0.3322 - val_loss: 0.3306\n",
      "Epoch 52/100\n",
      "11654/11654 [==============================] - 144s 12ms/step - loss: 0.3328 - val_loss: 0.3293\n",
      "Epoch 53/100\n",
      "11654/11654 [==============================] - 149s 13ms/step - loss: 0.3328 - val_loss: 0.3300\n",
      "Epoch 54/100\n",
      "11654/11654 [==============================] - 144s 12ms/step - loss: 0.3318 - val_loss: 0.3308\n",
      "Epoch 55/100\n",
      "11654/11654 [==============================] - 145s 12ms/step - loss: 0.3327 - val_loss: 0.3294\n",
      "Epoch 56/100\n",
      "11654/11654 [==============================] - 146s 13ms/step - loss: 0.3341 - val_loss: 0.3300\n",
      "Epoch 57/100\n",
      "11654/11654 [==============================] - 147s 13ms/step - loss: 0.3335 - val_loss: 0.3295\n",
      "Epoch 58/100\n",
      "11654/11654 [==============================] - 145s 12ms/step - loss: 0.3331 - val_loss: 0.3299\n",
      "Epoch 59/100\n",
      "11654/11654 [==============================] - 144s 12ms/step - loss: 0.3336 - val_loss: 0.3301\n",
      "Epoch 60/100\n",
      "11654/11654 [==============================] - 144s 12ms/step - loss: 0.3325 - val_loss: 0.3295\n",
      "Epoch 61/100\n",
      "11654/11654 [==============================] - 149s 13ms/step - loss: 0.3338 - val_loss: 0.3296\n",
      "Epoch 62/100\n",
      "11654/11654 [==============================] - 147s 13ms/step - loss: 0.3328 - val_loss: 0.3301\n",
      "Epoch 00062: early stopping\n"
     ]
    },
    {
     "data": {
      "text/plain": [
       "<tensorflow.python.keras.callbacks.History at 0x7fb80da27390>"
      ]
     },
     "execution_count": 72,
     "metadata": {},
     "output_type": "execute_result"
    }
   ],
   "source": [
    "with tpu_strategy.scope(): \n",
    "  model_bias = make_model(output_bias=initial_bias)\n",
    "\n",
    "# train model normally\n",
    "model_bias.fit(X_train,y_train, epochs=EPOCHS, batch_size = BATCH_SIZE, validation_data=(X_test,y_test), callbacks = early_stopping)"
   ]
  },
  {
   "cell_type": "code",
   "execution_count": 73,
   "id": "d1e21eaa",
   "metadata": {
    "execution": {
     "iopub.execute_input": "2021-11-11T19:02:10.769030Z",
     "iopub.status.busy": "2021-11-11T19:02:10.768021Z",
     "iopub.status.idle": "2021-11-11T19:02:11.057661Z",
     "shell.execute_reply": "2021-11-11T19:02:11.056779Z",
     "shell.execute_reply.started": "2021-11-11T13:01:36.809443Z"
    },
    "papermill": {
     "duration": 65.599787,
     "end_time": "2021-11-11T19:02:11.057808",
     "exception": false,
     "start_time": "2021-11-11T19:01:05.458021",
     "status": "completed"
    },
    "tags": []
   },
   "outputs": [
    {
     "data": {
      "text/plain": [
       "<AxesSubplot:>"
      ]
     },
     "execution_count": 73,
     "metadata": {},
     "output_type": "execute_result"
    },
    {
     "data": {
      "image/png": "[encoded data removed]",
      "text/plain": [
       "<Figure size 432x288 with 1 Axes>"
      ]
     },
     "metadata": {},
     "output_type": "display_data"
    }
   ],
   "source": [
    "history_bias = pd.DataFrame(data = model_bias.history.history)\n",
    "\n",
    "history_bias[[\"loss\",\"val_loss\"]].plot()"
   ]
  },
  {
   "cell_type": "code",
   "execution_count": 74,
   "id": "c0985028",
   "metadata": {
    "execution": {
     "iopub.execute_input": "2021-11-11T19:04:21.122420Z",
     "iopub.status.busy": "2021-11-11T19:04:21.121505Z",
     "iopub.status.idle": "2021-11-11T19:08:04.149745Z",
     "shell.execute_reply": "2021-11-11T19:08:04.150231Z",
     "shell.execute_reply.started": "2021-11-11T13:01:37.160394Z"
    },
    "papermill": {
     "duration": 288.051016,
     "end_time": "2021-11-11T19:08:04.150425",
     "exception": false,
     "start_time": "2021-11-11T19:03:16.099409",
     "status": "completed"
    },
    "tags": []
   },
   "outputs": [
    {
     "name": "stdout",
     "output_type": "stream",
     "text": [
      "22960/22960 [==============================] - 221s 10ms/step - loss: 0.3301\n"
     ]
    },
    {
     "data": {
      "text/plain": [
       "0.3300783336162567"
      ]
     },
     "execution_count": 74,
     "metadata": {},
     "output_type": "execute_result"
    }
   ],
   "source": [
    "model_bias.evaluate(X_test,y_test)"
   ]
  },
  {
   "cell_type": "code",
   "execution_count": 75,
   "id": "7cd5da46",
   "metadata": {
    "execution": {
     "iopub.execute_input": "2021-11-11T19:10:17.827494Z",
     "iopub.status.busy": "2021-11-11T19:10:17.826824Z",
     "iopub.status.idle": "2021-11-11T19:11:46.514602Z",
     "shell.execute_reply": "2021-11-11T19:11:46.513642Z",
     "shell.execute_reply.started": "2021-11-11T13:01:47.311294Z"
    },
    "papermill": {
     "duration": 155.507233,
     "end_time": "2021-11-11T19:11:46.514911",
     "exception": false,
     "start_time": "2021-11-11T19:09:11.007678",
     "status": "completed"
    },
    "tags": []
   },
   "outputs": [],
   "source": [
    "# Note - predict_classes was deprecated as of tensorflow 2.6 \n",
    "y_pred = model_bias.predict(X_test)\n",
    "y_pred = (y_pred > 0.5).astype(\"int32\")"
   ]
  },
  {
   "cell_type": "code",
   "execution_count": 76,
   "id": "dfa51af2",
   "metadata": {
    "execution": {
     "iopub.execute_input": "2021-11-11T19:14:01.282561Z",
     "iopub.status.busy": "2021-11-11T19:14:01.276656Z",
     "iopub.status.idle": "2021-11-11T19:15:31.043218Z",
     "shell.execute_reply": "2021-11-11T19:15:31.042670Z",
     "shell.execute_reply.started": "2021-11-11T13:01:52.049467Z"
    },
    "papermill": {
     "duration": 158.134285,
     "end_time": "2021-11-11T19:15:31.043376",
     "exception": false,
     "start_time": "2021-11-11T19:12:52.909091",
     "status": "completed"
    },
    "tags": []
   },
   "outputs": [
    {
     "name": "stdout",
     "output_type": "stream",
     "text": [
      "0.8791318573929044\n",
      "              precision    recall  f1-score   support\n",
      "\n",
      "           0       0.88      1.00      0.94    645909\n",
      "           1       0.52      0.00      0.00     88809\n",
      "\n",
      "    accuracy                           0.88    734718\n",
      "   macro avg       0.70      0.50      0.47    734718\n",
      "weighted avg       0.84      0.88      0.82    734718\n",
      "\n"
     ]
    }
   ],
   "source": [
    "# Note - predict_classes was deprecated as of tensorflow 2.6 \n",
    "y_pred = model_bias.predict(X_test)\n",
    "y_pred = (y_pred > 0.5).astype(\"int32\")\n",
    "\n",
    "print( accuracy_score(y_test,y_pred) )\n",
    "\n",
    "print( classification_report(y_test,y_pred) )"
   ]
  },
  {
   "cell_type": "markdown",
   "id": "2de33e44",
   "metadata": {
    "papermill": {
     "duration": 67.568153,
     "end_time": "2021-11-11T19:17:45.420392",
     "exception": false,
     "start_time": "2021-11-11T19:16:37.852239",
     "status": "completed"
    },
    "tags": []
   },
   "source": [
    "# New Weighted model \n",
    "*The goal is to identify fraudulent transactions, but you don't have very many of those positive samples to work with, so you would want to have the classifier heavily weight the few examples that are available. You can do this by passing Keras weights for each class through a parameter. These will cause the model to \"pay more attention\" to examples from an under-represented class.*\n",
    "\n",
    "\n",
    "***Note***: Scaling by len(df)/2 helps keep the loss to a similar magnitude.\\\n",
    "***Note***: The sum of the weights of all examples stays the same."
   ]
  },
  {
   "cell_type": "code",
   "execution_count": 77,
   "id": "63e70f67",
   "metadata": {
    "execution": {
     "iopub.execute_input": "2021-11-11T19:19:59.547648Z",
     "iopub.status.busy": "2021-11-11T19:19:59.546915Z",
     "iopub.status.idle": "2021-11-11T19:19:59.550682Z",
     "shell.execute_reply": "2021-11-11T19:19:59.551320Z",
     "shell.execute_reply.started": "2021-11-11T13:01:56.38427Z"
    },
    "papermill": {
     "duration": 66.80941,
     "end_time": "2021-11-11T19:19:59.551501",
     "exception": false,
     "start_time": "2021-11-11T19:18:52.742091",
     "status": "completed"
    },
    "tags": []
   },
   "outputs": [
    {
     "name": "stdout",
     "output_type": "stream",
     "text": [
      "Weight for class 0: 0.57\n",
      "Weight for class 1: 4.13\n"
     ]
    }
   ],
   "source": [
    "weight_for_0 = (1 / neg) * (len(df) / 2.0)\n",
    "weight_for_1 = (1 / pos) * (len(df) / 2.0)\n",
    "\n",
    "class_weight = {0: weight_for_0, 1: weight_for_1}\n",
    "\n",
    "print('Weight for class 0: {:.2f}'.format(weight_for_0))\n",
    "print('Weight for class 1: {:.2f}'.format(weight_for_1))"
   ]
  },
  {
   "cell_type": "code",
   "execution_count": 78,
   "id": "6f6f4c96",
   "metadata": {
    "execution": {
     "iopub.execute_input": "2021-11-11T19:22:13.281887Z",
     "iopub.status.busy": "2021-11-11T19:22:13.281241Z",
     "iopub.status.idle": "2021-11-11T20:52:54.181873Z",
     "shell.execute_reply": "2021-11-11T20:52:54.181294Z",
     "shell.execute_reply.started": "2021-11-11T13:01:56.393255Z"
    },
    "papermill": {
     "duration": 5507.487778,
     "end_time": "2021-11-11T20:52:54.182023",
     "exception": false,
     "start_time": "2021-11-11T19:21:06.694245",
     "status": "completed"
    },
    "tags": []
   },
   "outputs": [
    {
     "name": "stdout",
     "output_type": "stream",
     "text": [
      "Epoch 1/100\n",
      "11654/11654 [==============================] - 152s 13ms/step - loss: 0.6552 - val_loss: 0.5946\n",
      "Epoch 2/100\n",
      "11654/11654 [==============================] - 154s 13ms/step - loss: 0.6266 - val_loss: 0.6025\n",
      "Epoch 3/100\n",
      "11654/11654 [==============================] - 156s 13ms/step - loss: 0.6244 - val_loss: 0.6093\n",
      "Epoch 4/100\n",
      "11654/11654 [==============================] - 150s 13ms/step - loss: 0.6214 - val_loss: 0.6082\n",
      "Epoch 5/100\n",
      "11654/11654 [==============================] - 149s 13ms/step - loss: 0.6212 - val_loss: 0.6185\n",
      "Epoch 6/100\n",
      "11654/11654 [==============================] - 152s 13ms/step - loss: 0.6198 - val_loss: 0.6332\n",
      "Epoch 7/100\n",
      "11654/11654 [==============================] - 154s 13ms/step - loss: 0.6181 - val_loss: 0.6329\n",
      "Epoch 8/100\n",
      "11654/11654 [==============================] - 151s 13ms/step - loss: 0.6186 - val_loss: 0.5943\n",
      "Epoch 9/100\n",
      "11654/11654 [==============================] - 150s 13ms/step - loss: 0.6170 - val_loss: 0.6075\n",
      "Epoch 10/100\n",
      "11654/11654 [==============================] - 148s 13ms/step - loss: 0.6173 - val_loss: 0.6229\n",
      "Epoch 11/100\n",
      "11654/11654 [==============================] - 159s 14ms/step - loss: 0.6168 - val_loss: 0.6020\n",
      "Epoch 12/100\n",
      "11654/11654 [==============================] - 150s 13ms/step - loss: 0.6174 - val_loss: 0.5913\n",
      "Epoch 13/100\n",
      "11654/11654 [==============================] - 151s 13ms/step - loss: 0.6163 - val_loss: 0.6313\n",
      "Epoch 14/100\n",
      "11654/11654 [==============================] - 158s 14ms/step - loss: 0.6144 - val_loss: 0.6042\n",
      "Epoch 15/100\n",
      "11654/11654 [==============================] - 157s 13ms/step - loss: 0.6146 - val_loss: 0.6526\n",
      "Epoch 16/100\n",
      "11654/11654 [==============================] - 154s 13ms/step - loss: 0.6160 - val_loss: 0.6046\n",
      "Epoch 17/100\n",
      "11654/11654 [==============================] - 157s 13ms/step - loss: 0.6160 - val_loss: 0.6267\n",
      "Epoch 18/100\n",
      "11654/11654 [==============================] - 158s 14ms/step - loss: 0.6147 - val_loss: 0.5889\n",
      "Epoch 19/100\n",
      "11654/11654 [==============================] - 160s 14ms/step - loss: 0.6146 - val_loss: 0.6308\n",
      "Epoch 20/100\n",
      "11654/11654 [==============================] - 159s 14ms/step - loss: 0.6143 - val_loss: 0.6272\n",
      "Epoch 21/100\n",
      "11654/11654 [==============================] - 162s 14ms/step - loss: 0.6132 - val_loss: 0.6406\n",
      "Epoch 22/100\n",
      "11654/11654 [==============================] - 160s 14ms/step - loss: 0.6140 - val_loss: 0.6425\n",
      "Epoch 23/100\n",
      "11654/11654 [==============================] - 160s 14ms/step - loss: 0.6126 - val_loss: 0.5849\n",
      "Epoch 24/100\n",
      "11654/11654 [==============================] - 161s 14ms/step - loss: 0.6136 - val_loss: 0.6095\n",
      "Epoch 25/100\n",
      "11654/11654 [==============================] - 161s 14ms/step - loss: 0.6138 - val_loss: 0.5836\n",
      "Epoch 26/100\n",
      "11654/11654 [==============================] - 160s 14ms/step - loss: 0.6122 - val_loss: 0.6041\n",
      "Epoch 27/100\n",
      "11654/11654 [==============================] - 161s 14ms/step - loss: 0.6121 - val_loss: 0.6470\n",
      "Epoch 28/100\n",
      "11654/11654 [==============================] - 159s 14ms/step - loss: 0.6116 - val_loss: 0.5930\n",
      "Epoch 29/100\n",
      "11654/11654 [==============================] - 158s 14ms/step - loss: 0.6132 - val_loss: 0.5929\n",
      "Epoch 30/100\n",
      "11654/11654 [==============================] - 156s 13ms/step - loss: 0.6139 - val_loss: 0.6050\n",
      "Epoch 31/100\n",
      "11654/11654 [==============================] - 155s 13ms/step - loss: 0.6135 - val_loss: 0.6297\n",
      "Epoch 32/100\n",
      "11654/11654 [==============================] - 154s 13ms/step - loss: 0.6133 - val_loss: 0.6127\n",
      "Epoch 33/100\n",
      "11654/11654 [==============================] - 151s 13ms/step - loss: 0.6119 - val_loss: 0.6214\n",
      "Epoch 34/100\n",
      "11654/11654 [==============================] - 146s 13ms/step - loss: 0.6128 - val_loss: 0.6031\n",
      "Epoch 35/100\n",
      "11654/11654 [==============================] - 151s 13ms/step - loss: 0.6120 - val_loss: 0.6147\n",
      "Epoch 00035: early stopping\n"
     ]
    },
    {
     "data": {
      "text/plain": [
       "<tensorflow.python.keras.callbacks.History at 0x7fb80dbeb590>"
      ]
     },
     "execution_count": 78,
     "metadata": {},
     "output_type": "execute_result"
    }
   ],
   "source": [
    "with tpu_strategy.scope(): \n",
    "  model_weighted = make_model(output_bias=initial_bias)\n",
    "\n",
    "## note the class weight \n",
    "model_weighted.fit(X_train,y_train, epochs=EPOCHS, batch_size = BATCH_SIZE, validation_data=(X_test,y_test), callbacks = early_stopping\n",
    "                  ,class_weight=class_weight)"
   ]
  },
  {
   "cell_type": "code",
   "execution_count": 79,
   "id": "d29678ab",
   "metadata": {
    "execution": {
     "iopub.execute_input": "2021-11-11T20:55:48.323918Z",
     "iopub.status.busy": "2021-11-11T20:55:48.322997Z",
     "iopub.status.idle": "2021-11-11T20:55:48.638861Z",
     "shell.execute_reply": "2021-11-11T20:55:48.639633Z",
     "shell.execute_reply.started": "2021-11-11T13:03:58.913586Z"
    },
    "papermill": {
     "duration": 86.958466,
     "end_time": "2021-11-11T20:55:48.639824",
     "exception": false,
     "start_time": "2021-11-11T20:54:21.681358",
     "status": "completed"
    },
    "tags": []
   },
   "outputs": [
    {
     "data": {
      "text/plain": [
       "<AxesSubplot:>"
      ]
     },
     "execution_count": 79,
     "metadata": {},
     "output_type": "execute_result"
    },
    {
     "data": {
      "image/png": "[encoded data removed]",
      "text/plain": [
       "<Figure size 432x288 with 1 Axes>"
      ]
     },
     "metadata": {},
     "output_type": "display_data"
    }
   ],
   "source": [
    "history_weighted = pd.DataFrame(data = model_weighted.history.history)\n",
    "\n",
    "## Plot the loss of the traing and test set \n",
    "history_weighted.plot()"
   ]
  },
  {
   "cell_type": "code",
   "execution_count": 80,
   "id": "8f2ff08e",
   "metadata": {
    "execution": {
     "iopub.execute_input": "2021-11-11T20:58:41.218728Z",
     "iopub.status.busy": "2021-11-11T20:58:41.217903Z",
     "iopub.status.idle": "2021-11-11T21:02:02.118932Z",
     "shell.execute_reply": "2021-11-11T21:02:02.118421Z",
     "shell.execute_reply.started": "2021-11-11T13:03:59.253741Z"
    },
    "papermill": {
     "duration": 287.809633,
     "end_time": "2021-11-11T21:02:02.119078",
     "exception": false,
     "start_time": "2021-11-11T20:57:14.309445",
     "status": "completed"
    },
    "tags": []
   },
   "outputs": [
    {
     "name": "stdout",
     "output_type": "stream",
     "text": [
      "22960/22960 [==============================] - 199s 9ms/step - loss: 0.6147\n"
     ]
    },
    {
     "data": {
      "text/plain": [
       "0.6146717667579651"
      ]
     },
     "execution_count": 80,
     "metadata": {},
     "output_type": "execute_result"
    }
   ],
   "source": [
    "model_weighted.evaluate(X_test,y_test)"
   ]
  },
  {
   "cell_type": "code",
   "execution_count": 81,
   "id": "c898c395",
   "metadata": {
    "execution": {
     "iopub.execute_input": "2021-11-11T21:05:02.768645Z",
     "iopub.status.busy": "2021-11-11T21:05:02.763871Z",
     "iopub.status.idle": "2021-11-11T21:05:02.771554Z",
     "shell.execute_reply": "2021-11-11T21:05:02.772033Z",
     "shell.execute_reply.started": "2021-11-11T13:04:09.826763Z"
    },
    "papermill": {
     "duration": 90.090227,
     "end_time": "2021-11-11T21:05:02.772213",
     "exception": false,
     "start_time": "2021-11-11T21:03:32.681986",
     "status": "completed"
    },
    "tags": []
   },
   "outputs": [
    {
     "data": {
      "text/plain": [
       "24"
      ]
     },
     "execution_count": 81,
     "metadata": {},
     "output_type": "execute_result"
    }
   ],
   "source": [
    "history_weighted[\"val_loss\"].argmin()"
   ]
  },
  {
   "cell_type": "code",
   "execution_count": 82,
   "id": "b450f1d9",
   "metadata": {
    "execution": {
     "iopub.execute_input": "2021-11-11T21:08:02.549061Z",
     "iopub.status.busy": "2021-11-11T21:08:02.548218Z",
     "iopub.status.idle": "2021-11-11T21:09:32.512792Z",
     "shell.execute_reply": "2021-11-11T21:09:32.512253Z",
     "shell.execute_reply.started": "2021-11-11T13:04:09.835177Z"
    },
    "papermill": {
     "duration": 179.620696,
     "end_time": "2021-11-11T21:09:32.512943",
     "exception": false,
     "start_time": "2021-11-11T21:06:32.892247",
     "status": "completed"
    },
    "tags": []
   },
   "outputs": [
    {
     "name": "stdout",
     "output_type": "stream",
     "text": [
      "0.638854635383916\n",
      "              precision    recall  f1-score   support\n",
      "\n",
      "           0       0.94      0.63      0.75    645909\n",
      "           1       0.21      0.72      0.32     88809\n",
      "\n",
      "    accuracy                           0.64    734718\n",
      "   macro avg       0.58      0.67      0.54    734718\n",
      "weighted avg       0.85      0.64      0.70    734718\n",
      "\n"
     ]
    }
   ],
   "source": [
    "# Note - predict_classes was deprecated as of tensorflow 2.6 \n",
    "y_pred = model_weighted.predict(X_test)\n",
    "y_pred = (y_pred > 0.5).astype(\"int32\")\n",
    "\n",
    "print( accuracy_score(y_test,y_pred) )\n",
    "\n",
    "print( classification_report(y_test,y_pred) )"
   ]
  }
 ],
 "metadata": {
  "kernelspec": {
   "display_name": "Python 3",
   "language": "python",
   "name": "python3"
  },
  "language_info": {
   "codemirror_mode": {
    "name": "ipython",
    "version": 3
   },
   "file_extension": ".py",
   "mimetype": "text/x-python",
   "name": "python",
   "nbconvert_exporter": "python",
   "pygments_lexer": "ipython3",
   "version": "3.7.10"
  },
  "papermill": {
   "default_parameters": {},
   "duration": 24724.724855,
   "end_time": "2021-11-11T21:11:06.512077",
   "environment_variables": {},
   "exception": null,
   "input_path": "__notebook__.ipynb",
   "output_path": "__notebook__.ipynb",
   "parameters": {},
   "start_time": "2021-11-11T14:19:01.787222",
   "version": "2.3.3"
  }
 },
 "nbformat": 4,
 "nbformat_minor": 5
}
